{
 "cells": [
  {
   "attachments": {},
   "cell_type": "markdown",
   "id": "375aafde",
   "metadata": {},
   "source": [
    "## Install Glue Spark Kernel \n",
    "\n",
    "jupyter kernelspec install aws_glue_interactive_sessions_kernel/glue_spark --user\n",
    "\n",
    "/home/ubuntu/.local/share/jupyter/kernels/glue_spark"
   ]
  },
  {
   "cell_type": "code",
   "execution_count": 2,
   "id": "93c78b7a",
   "metadata": {},
   "outputs": [
    {
     "data": {
      "text/markdown": [
       "\n",
       "# Available Magic Commands\n",
       "\n",
       "## Sessions Magic\n",
       "\n",
       "----\n",
       "    %help                             Return a list of descriptions and input types for all magic commands. \n",
       "    %profile            String        Specify a profile in your aws configuration to use as the credentials provider.\n",
       "    %region             String        Specify the AWS region in which to initialize a session. \n",
       "                                      Default from ~/.aws/config on Linux or macOS, \n",
       "                                      or C:\\Users\\ USERNAME \\.aws\\config\" on Windows.\n",
       "    %idle_timeout       Int           The number of minutes of inactivity after which a session will timeout. \n",
       "                                      Default: 2880 minutes (48 hours).\n",
       "    %session_id_prefix  String        Define a String that will precede all session IDs in the format \n",
       "                                      [session_id_prefix]-[session_id]. If a session ID is not provided,\n",
       "                                      a random UUID will be generated.\n",
       "    %status                           Returns the status of the current Glue session including its duration, \n",
       "                                      configuration and executing user / role.\n",
       "    %session_id                       Returns the session ID for the running session. \n",
       "    %list_sessions                    Lists all currently running sessions by ID.\n",
       "    %stop_session                     Stops the current session.\n",
       "    %glue_version       String        The version of Glue to be used by this session. \n",
       "                                      Currently, the only valid options are 2.0 and 3.0. \n",
       "                                      Default: 2.0.\n",
       "----\n",
       "\n",
       "## Selecting Job Types\n",
       "\n",
       "----\n",
       "    %streaming          String        Sets the session type to Glue Streaming.\n",
       "    %etl                String        Sets the session type to Glue ETL.\n",
       "    %glue_ray           String        Sets the session type to Glue Ray.\n",
       "----\n",
       "\n",
       "## Glue Config Magic \n",
       "*(common across all job types)*\n",
       "\n",
       "----\n",
       "\n",
       "    %%configure         Dictionary    A json-formatted dictionary consisting of all configuration parameters for \n",
       "                                      a session. Each parameter can be specified here or through individual magics.\n",
       "    %iam_role           String        Specify an IAM role ARN to execute your session with.\n",
       "                                      Default from ~/.aws/config on Linux or macOS, \n",
       "                                      or C:\\Users\\%USERNAME%\\.aws\\config` on Windows.\n",
       "    %number_of_workers  int           The number of workers of a defined worker_type that are allocated \n",
       "                                      when a session runs.\n",
       "                                      Default: 5.\n",
       "    %additional_python_modules  List  Comma separated list of additional Python modules to include in your cluster \n",
       "                                      (can be from Pypi or S3).\n",
       "----\n",
       "\n",
       "                                      \n",
       "## Magic for Spark Jobs (ETL & Streaming)\n",
       "\n",
       "----\n",
       "    %worker_type        String        Set the type of instances the session will use as workers. \n",
       "                                      ETL and Streaming support G.1X and G.2X. \n",
       "                                      Default: G.1X.\n",
       "    %connections        List          Specify a comma separated list of connections to use in the session.\n",
       "    %extra_py_files     List          Comma separated list of additional Python files From S3.\n",
       "    %extra_jars         List          Comma separated list of additional Jars to include in the cluster.\n",
       "    %spark_conf         String        Specify custom spark configurations for your session. \n",
       "                                      E.g. %spark_conf spark.serializer=org.apache.spark.serializer.KryoSerializer\n",
       "----\n",
       "                                      \n",
       "## Magic for Ray Job\n",
       "\n",
       "----\n",
       "    %min_workers        Int           The minimum number of workers that are allocated to a Ray job. \n",
       "                                      Default: 1.\n",
       "    %object_memory_head Int           The percentage of free memory on the instance head node after a warm start. \n",
       "                                      Minimum: 0. Maximum: 100.\n",
       "    %object_memory_worker Int         The percentage of free memory on the instance worker nodes after a warm start. \n",
       "                                      Minimum: 0. Maximum: 100.\n",
       "----\n",
       "\n",
       "## Action Magic\n",
       "\n",
       "----\n",
       "\n",
       "    %%sql               String        Run SQL code. All lines after the initial %%sql magic will be passed\n",
       "                                      as part of the SQL code.  \n",
       "----\n",
       "\n"
      ]
     },
     "metadata": {},
     "output_type": "display_data"
    }
   ],
   "source": [
    "%help"
   ]
  },
  {
   "cell_type": "code",
   "execution_count": 4,
   "id": "52907988",
   "metadata": {},
   "outputs": [
    {
     "name": "stderr",
     "output_type": "stream",
     "text": [
      "You are already connected to a glueetl session 29de39e3-cdc9-44de-8b11-e88a7fb49a5f.\n",
      "\n",
      "No change will be made to the current session that is set as glueetl. The session configuration change will apply to newly created sessions.\n"
     ]
    },
    {
     "name": "stdout",
     "output_type": "stream",
     "text": [
      "Current iam_role is arn:aws:iam::371913002065:role/TeamRole\n",
      "iam_role has been set to arn:aws:iam::371913002065:role/RoleForGlueNotebook.\n"
     ]
    }
   ],
   "source": [
    "%iam_role arn:aws:iam::xxx:role/RoleForGlueNotebook"
   ]
  },
  {
   "cell_type": "code",
   "execution_count": 6,
   "id": "48493528",
   "metadata": {},
   "outputs": [
    {
     "name": "stderr",
     "output_type": "stream",
     "text": [
      "You are already connected to a glueetl session 29de39e3-cdc9-44de-8b11-e88a7fb49a5f.\n",
      "\n",
      "No change will be made to the current session that is set as glueetl. The session configuration change will apply to newly created sessions.\n"
     ]
    },
    {
     "name": "stdout",
     "output_type": "stream",
     "text": [
      "Previous profile: default\n",
      "Setting new profile to: default\n"
     ]
    }
   ],
   "source": [
    "%profile default"
   ]
  },
  {
   "cell_type": "code",
   "execution_count": 8,
   "id": "8f0b2b75",
   "metadata": {},
   "outputs": [
    {
     "name": "stderr",
     "output_type": "stream",
     "text": [
      "You are already connected to a glueetl session 29de39e3-cdc9-44de-8b11-e88a7fb49a5f.\n",
      "\n",
      "No change will be made to the current session that is set as glueetl. The session configuration change will apply to newly created sessions.\n"
     ]
    },
    {
     "name": "stdout",
     "output_type": "stream",
     "text": [
      "Previous region: us-east-1\n",
      "Setting new region to: us-east-1\n",
      "Reauthenticating Glue client with new region: us-east-1\n",
      "IAM role has been set to arn:aws:iam::371913002065:role/RoleForGlueNotebook. Reauthenticating.\n",
      "Authenticating with profile=default\n",
      "glue_role_arn defined by user: arn:aws:iam::371913002065:role/RoleForGlueNotebook\n",
      "Authentication done.\n",
      "Region is set to: us-east-1\n"
     ]
    }
   ],
   "source": [
    "%region \"us-east-1\""
   ]
  },
  {
   "cell_type": "code",
   "execution_count": 3,
   "id": "a0924ae4",
   "metadata": {},
   "outputs": [
    {
     "name": "stdout",
     "output_type": "stream",
     "text": [
      "hello\n"
     ]
    }
   ],
   "source": [
    "print(\"hello\")"
   ]
  },
  {
   "cell_type": "code",
   "execution_count": 4,
   "id": "8649c798",
   "metadata": {},
   "outputs": [
    {
     "name": "stdout",
     "output_type": "stream",
     "text": [
      "\n"
     ]
    }
   ],
   "source": [
    "from awsglue.context import GlueContext\n",
    "from pyspark.context import SparkContext"
   ]
  },
  {
   "cell_type": "code",
   "execution_count": 5,
   "id": "014ce719",
   "metadata": {},
   "outputs": [
    {
     "name": "stdout",
     "output_type": "stream",
     "text": [
      "\n"
     ]
    }
   ],
   "source": [
    "sc = SparkContext.getOrCreate()\n",
    "glueContext = GlueContext(sc)"
   ]
  },
  {
   "cell_type": "code",
   "execution_count": 6,
   "id": "7da355de",
   "metadata": {},
   "outputs": [
    {
     "name": "stdout",
     "output_type": "stream",
     "text": [
      "\n"
     ]
    }
   ],
   "source": [
    "columns = [\"language\",\"users_count\"]\n",
    "data = [(\"Java\", \"20000\"), (\"Python\", \"100000\"), (\"Scala\", \"3000\")]"
   ]
  },
  {
   "cell_type": "code",
   "execution_count": 7,
   "id": "e630be8f",
   "metadata": {},
   "outputs": [
    {
     "name": "stdout",
     "output_type": "stream",
     "text": [
      "\n"
     ]
    }
   ],
   "source": [
    "rdd = sc.parallelize(data)"
   ]
  },
  {
   "cell_type": "code",
   "execution_count": 8,
   "id": "c97cd1f9",
   "metadata": {},
   "outputs": [
    {
     "name": "stdout",
     "output_type": "stream",
     "text": [
      "\n"
     ]
    }
   ],
   "source": [
    "df = rdd.toDF()"
   ]
  },
  {
   "cell_type": "code",
   "execution_count": 9,
   "id": "5df3e9b2",
   "metadata": {},
   "outputs": [
    {
     "name": "stdout",
     "output_type": "stream",
     "text": [
      "+------+------+\n",
      "|    _1|    _2|\n",
      "+------+------+\n",
      "|  Java| 20000|\n",
      "|Python|100000|\n",
      "| Scala|  3000|\n",
      "+------+------+\n"
     ]
    }
   ],
   "source": [
    "df.show()"
   ]
  },
  {
   "cell_type": "code",
   "execution_count": 10,
   "id": "965ec0a7",
   "metadata": {},
   "outputs": [
    {
     "name": "stdout",
     "output_type": "stream",
     "text": [
      "\n"
     ]
    }
   ],
   "source": [
    "spark = glueContext.spark_session"
   ]
  },
  {
   "cell_type": "code",
   "execution_count": 11,
   "id": "1d386308",
   "metadata": {},
   "outputs": [
    {
     "name": "stdout",
     "output_type": "stream",
     "text": [
      "\n"
     ]
    }
   ],
   "source": [
    "df = spark.read.parquet(\"s3://amazon-reviews-pds/parquet/product_category=Apparel/part-00000-495c48e6-96d6-4650-aa65-3c36a3516ddd.c000.snappy.parquet\")"
   ]
  },
  {
   "cell_type": "code",
   "execution_count": 12,
   "id": "099a4150",
   "metadata": {},
   "outputs": [
    {
     "name": "stdout",
     "output_type": "stream",
     "text": [
      "+-----------+-----------+--------------+----------+--------------+--------------------+-----------+-------------+-----------+----+-----------------+--------------------+--------------------+-----------+----+\n",
      "|marketplace|customer_id|     review_id|product_id|product_parent|       product_title|star_rating|helpful_votes|total_votes|vine|verified_purchase|     review_headline|         review_body|review_date|year|\n",
      "+-----------+-----------+--------------+----------+--------------+--------------------+-----------+-------------+-----------+----+-----------------+--------------------+--------------------+-----------+----+\n",
      "|         US|   51114360|R2O1ZWACRT6PGH|B00004U3M4|     988649596|Adult Robin Costu...|          1|            9|         17|   N|                Y|   Not as advertised|This is an adult ...| 2001-10-10|2001|\n",
      "|         US|   17052567|R26I9SLC2PZTW7|B00WGDJJM4|     973297679|LookbookStore Wom...|          5|            2|          2|   N|                Y|Cute and Sophisti...|I received this s...| 2015-05-03|2015|\n",
      "|         US|   50898608|R32G5TO62W43KP|B00005OT7L|      90669056|Women's Black But...|          5|            0|          0|   N|                N|          Great Buy!|I just received m...| 2002-02-03|2002|\n",
      "|         US|     627263|R211FYZUJDCY3P|B00W8AL4KA|     357485050|Nintendo Zelda tr...|          5|            0|          0|   N|                N|          Five Stars|Love this wallet ...| 2015-05-03|2015|\n",
      "|         US|   35515711| RBQ22581QAV0U|B0000644X6|     101524150|Marc New York Lea...|          4|            0|          0|   N|                N|Fantastic and Ele...|Each time I glanc...| 2002-08-24|2002|\n",
      "|         US|   53017806|R2B5IGV10Y92E3|B00VWGXVTI|      57069564|Polare Full Grain...|          5|            9|         10|   N|                N|A nice looking, p...|[[VIDEOID:27844fd...| 2015-05-03|2015|\n",
      "|         US|   35360489|R26B0PZGWNYB3S|B00006B6YD|     757094727|Dogs Playing Poke...|          5|            0|          0|   N|                N|A classic for all...|This shirt is a d...| 2002-08-29|2002|\n",
      "|         US|     451719| RL6X6IE6D6PRG|B00VQMQ69U|     633742649|USA Flag T-Shirt ...|          5|            0|          0|   N|                Y|          Five Stars|          Nice shirt| 2015-05-03|2015|\n",
      "|         US|   35360489|R2TXWGT5KI15OL|B00006FXDZ|     512328322|Mind, Body, Soul ...|          4|            0|          0|   N|                N|Pleasing to the m...|This lounge outfi...| 2002-09-13|2002|\n",
      "|         US|   25693810|R1LYBT7I02B8V3|B00VMU5JVM|     159861482|Sassy Apparel Wom...|          5|            0|          0|   N|                Y|          Five Stars|Very cute skirt, ...| 2015-05-03|2015|\n",
      "+-----------+-----------+--------------+----------+--------------+--------------------+-----------+-------------+-----------+----+-----------------+--------------------+--------------------+-----------+----+\n",
      "only showing top 10 rows\n"
     ]
    }
   ],
   "source": [
    "df.show(10)"
   ]
  },
  {
   "cell_type": "code",
   "execution_count": 13,
   "id": "e107ebc6",
   "metadata": {},
   "outputs": [
    {
     "name": "stdout",
     "output_type": "stream",
     "text": [
      "\n"
     ]
    }
   ],
   "source": [
    "test = glueContext.spark_session"
   ]
  },
  {
   "cell_type": "code",
   "execution_count": 14,
   "id": "03da49cb",
   "metadata": {},
   "outputs": [
    {
     "name": "stdout",
     "output_type": "stream",
     "text": [
      "<pyspark.sql.session.SparkSession object at 0x7f477fedc910>\n"
     ]
    }
   ],
   "source": [
    "print(glueContext.spark_session)"
   ]
  },
  {
   "cell_type": "code",
   "execution_count": 15,
   "id": "ca54034d",
   "metadata": {},
   "outputs": [
    {
     "name": "stdout",
     "output_type": "stream",
     "text": [
      "\n"
     ]
    }
   ],
   "source": [
    "from pyspark.sql import SparkSession"
   ]
  },
  {
   "cell_type": "code",
   "execution_count": 16,
   "id": "488bc1a1",
   "metadata": {},
   "outputs": [
    {
     "name": "stdout",
     "output_type": "stream",
     "text": [
      "\n"
     ]
    }
   ],
   "source": [
    "test = SparkSession.builder.appName(\"Test\").enableHiveSupport().getOrCreate()"
   ]
  },
  {
   "cell_type": "code",
   "execution_count": 17,
   "id": "83c0f815",
   "metadata": {},
   "outputs": [
    {
     "name": "stdout",
     "output_type": "stream",
     "text": [
      "\n"
     ]
    }
   ],
   "source": [
    "output = test.read.parquet(\"s3://amazon-reviews-pds/parquet/product_category=Apparel/part-00000-495c48e6-96d6-4650-aa65-3c36a3516ddd.c000.snappy.parquet\")"
   ]
  },
  {
   "cell_type": "code",
   "execution_count": 18,
   "id": "dc476a01",
   "metadata": {},
   "outputs": [
    {
     "name": "stdout",
     "output_type": "stream",
     "text": [
      "+-----------+-----------+--------------+----------+--------------+--------------------+-----------+-------------+-----------+----+-----------------+--------------------+--------------------+-----------+----+\n",
      "|marketplace|customer_id|     review_id|product_id|product_parent|       product_title|star_rating|helpful_votes|total_votes|vine|verified_purchase|     review_headline|         review_body|review_date|year|\n",
      "+-----------+-----------+--------------+----------+--------------+--------------------+-----------+-------------+-----------+----+-----------------+--------------------+--------------------+-----------+----+\n",
      "|         US|   51114360|R2O1ZWACRT6PGH|B00004U3M4|     988649596|Adult Robin Costu...|          1|            9|         17|   N|                Y|   Not as advertised|This is an adult ...| 2001-10-10|2001|\n",
      "|         US|   17052567|R26I9SLC2PZTW7|B00WGDJJM4|     973297679|LookbookStore Wom...|          5|            2|          2|   N|                Y|Cute and Sophisti...|I received this s...| 2015-05-03|2015|\n",
      "|         US|   50898608|R32G5TO62W43KP|B00005OT7L|      90669056|Women's Black But...|          5|            0|          0|   N|                N|          Great Buy!|I just received m...| 2002-02-03|2002|\n",
      "|         US|     627263|R211FYZUJDCY3P|B00W8AL4KA|     357485050|Nintendo Zelda tr...|          5|            0|          0|   N|                N|          Five Stars|Love this wallet ...| 2015-05-03|2015|\n",
      "|         US|   35515711| RBQ22581QAV0U|B0000644X6|     101524150|Marc New York Lea...|          4|            0|          0|   N|                N|Fantastic and Ele...|Each time I glanc...| 2002-08-24|2002|\n",
      "|         US|   53017806|R2B5IGV10Y92E3|B00VWGXVTI|      57069564|Polare Full Grain...|          5|            9|         10|   N|                N|A nice looking, p...|[[VIDEOID:27844fd...| 2015-05-03|2015|\n",
      "|         US|   35360489|R26B0PZGWNYB3S|B00006B6YD|     757094727|Dogs Playing Poke...|          5|            0|          0|   N|                N|A classic for all...|This shirt is a d...| 2002-08-29|2002|\n",
      "|         US|     451719| RL6X6IE6D6PRG|B00VQMQ69U|     633742649|USA Flag T-Shirt ...|          5|            0|          0|   N|                Y|          Five Stars|          Nice shirt| 2015-05-03|2015|\n",
      "|         US|   35360489|R2TXWGT5KI15OL|B00006FXDZ|     512328322|Mind, Body, Soul ...|          4|            0|          0|   N|                N|Pleasing to the m...|This lounge outfi...| 2002-09-13|2002|\n",
      "|         US|   25693810|R1LYBT7I02B8V3|B00VMU5JVM|     159861482|Sassy Apparel Wom...|          5|            0|          0|   N|                Y|          Five Stars|Very cute skirt, ...| 2015-05-03|2015|\n",
      "+-----------+-----------+--------------+----------+--------------+--------------------+-----------+-------------+-----------+----+-----------------+--------------------+--------------------+-----------+----+\n",
      "only showing top 10 rows\n"
     ]
    }
   ],
   "source": [
    "output.show(10)"
   ]
  },
  {
   "cell_type": "code",
   "execution_count": 21,
   "id": "2470ffb2",
   "metadata": {},
   "outputs": [
    {
     "name": "stdout",
     "output_type": "stream",
     "text": [
      "\n"
     ]
    }
   ],
   "source": [
    "df2 = glueContext.create_dynamic_frame.from_catalog(database=\"default\", table_name=\"amazon_reviews_parquet_table\")"
   ]
  },
  {
   "cell_type": "code",
   "execution_count": 22,
   "id": "172f2273",
   "metadata": {},
   "outputs": [
    {
     "name": "stdout",
     "output_type": "stream",
     "text": [
      "{\"marketplace\": \"US\", \"customer_id\": \"5994119\", \"review_id\": \"R3F8EK3AZFR3K7\", \"product_id\": \"B00Q84KA7U\", \"product_parent\": \"961074580\", \"product_title\": \"Instantly Ageless Facelift In A Box- Anti Wrinkle Microcream (1 Box x 25 Vials)\", \"star_rating\": 1, \"helpful_votes\": 1, \"total_votes\": 1, \"vine\": \"N\", \"verified_purchase\": \"Y\", \"review_headline\": \"I used the product and it works accept for when ...\", \"review_body\": \"I used the product and it works accept for when it dries it leaves a crust under the eye where you put it.\", \"review_date\": 2015-05-02, \"year\": 2015, \"product_category\": \"Health_&_Personal_Care\"}\n",
      "{\"marketplace\": \"US\", \"customer_id\": \"11277276\", \"review_id\": \"R1189S5JQK28YL\", \"product_id\": \"B001V9LO2W\", \"product_parent\": \"346067075\", \"product_title\": \"California Exotics Waterproof Jack Rabbit with Floating Beads\", \"star_rating\": 3, \"helpful_votes\": 2, \"total_votes\": 3, \"vine\": \"N\", \"verified_purchase\": \"N\", \"review_headline\": \"could be better\", \"review_body\": \"The overall construction of the product is good.  However, the vibrating bunny ears are a little long and high on the vibrator and it seems impossible to get everything to line up, seems like you have to get it just in the right place and then be careful as to not move it.  Also, while the vibrator is in use, if one squeezes hard enough the metal balls that move around are quite easy to stop and painful to the squeeze. It also tends to be a bit wider than most vibrators, which is good for me, but another girl I know can't enjoy using hers.  It has nice speed setting options but isn't my favorite toy.\", \"review_date\": 2009-05-13, \"year\": 2009, \"product_category\": \"Health_&_Personal_Care\"}\n",
      "{\"marketplace\": \"US\", \"customer_id\": \"47700078\", \"review_id\": \"R35VQQJKCU4LQN\", \"product_id\": \"B00HB0WPBE\", \"product_parent\": \"657451484\", \"product_title\": \"Huggies Pull-Ups Training Pants for Girls\", \"star_rating\": 5, \"helpful_votes\": 0, \"total_votes\": 0, \"vine\": \"N\", \"verified_purchase\": \"Y\", \"review_headline\": \"Five Stars\", \"review_body\": \"does the jobwell\", \"review_date\": 2015-05-02, \"year\": 2015, \"product_category\": \"Health_&_Personal_Care\"}\n",
      "{\"marketplace\": \"US\", \"customer_id\": \"14231554\", \"review_id\": \"RM58ML8HGU1NG\", \"product_id\": \"B000EHNF7Y\", \"product_parent\": \"592563310\", \"product_title\": \"Penthouse Secrets Collection Golden Nugget 5X Body Massager\", \"star_rating\": 4, \"helpful_votes\": 0, \"total_votes\": 0, \"vine\": \"N\", \"verified_purchase\": \"Y\", \"review_headline\": \"Oh hell yeah!\", \"review_body\": \"This little thing is powerful! The pulsating modes are fantastic, and powerful, and it has a gentler mode if that's what you're in the mood for as well. It really gets the job done well!\", \"review_date\": 2009-05-13, \"year\": 2009, \"product_category\": \"Health_&_Personal_Care\"}\n",
      "{\"marketplace\": \"US\", \"customer_id\": \"21566652\", \"review_id\": \"R2FR59MYA918ZR\", \"product_id\": \"B00SG7WWOQ\", \"product_parent\": \"55274986\", \"product_title\": \"Tech Tools 28 Day Pill Box with LCD Alarm/Timer TPI-7007\", \"star_rating\": 5, \"helpful_votes\": 1, \"total_votes\": 1, \"vine\": \"N\", \"verified_purchase\": \"N\", \"review_headline\": \"Tech Tools 28 Day Pill Box with LCD...\", \"review_body\": \"I have to take several pills a day and it is important that they are timed exactly.  This pill box with the timer is exactly what I need.  What impressed me with this is that the daily packet fits neatly in the frame.  If I drop one of the daily packets, the box does not fly open like others do and leave pills all over the floor.  Although it it small, it is amazing how many pills will fit in the box.  I like the clear view of my medicine and the snug fit of the day's dose.  I can fit the daily box in my pocket without an unsightly bulge.  The key ring and the timer are an added bonus.  I no longer use any of my other pill containers because this one does it all.<br />I received this product to review in exchange for an honest and unbiased review.\", \"review_date\": 2015-05-02, \"year\": 2015, \"product_category\": \"Health_&_Personal_Care\"}\n",
      "{\"marketplace\": \"US\", \"customer_id\": \"29389784\", \"review_id\": \"R3IDBNQDY0W047\", \"product_id\": \"B000FJQ48I\", \"product_parent\": \"818304105\", \"product_title\": \"Omron Body Fat Monitor and Scale\", \"star_rating\": 5, \"helpful_votes\": 1, \"total_votes\": 1, \"vine\": \"N\", \"verified_purchase\": \"N\", \"review_headline\": \"The best one out there\", \"review_body\": \"This is the best scale i have had. Very easy to understand and very accurate.\", \"review_date\": 2009-05-13, \"year\": 2009, \"product_category\": \"Health_&_Personal_Care\"}\n",
      "{\"marketplace\": \"US\", \"customer_id\": \"42781837\", \"review_id\": \"R1DBYQ7JTPXG1R\", \"product_id\": \"B0038NEOKS\", \"product_parent\": \"802930326\", \"product_title\": \"AdvoCare Watermelon Spark Canister 10.5 Ounce - New\", \"star_rating\": 5, \"helpful_votes\": 0, \"total_votes\": 0, \"vine\": \"N\", \"verified_purchase\": \"Y\", \"review_headline\": \"Five Stars\", \"review_body\": \"Love it!!! The taste is great\", \"review_date\": 2015-05-02, \"year\": 2015, \"product_category\": \"Health_&_Personal_Care\"}\n",
      "{\"marketplace\": \"US\", \"customer_id\": \"40952567\", \"review_id\": \"R2SA8C3BFN7CGO\", \"product_id\": \"B001DYFJDA\", \"product_parent\": \"526839167\", \"product_title\": \"LimuZ NEI (5.3 oz)\", \"star_rating\": 5, \"helpful_votes\": 4, \"total_votes\": 5, \"vine\": \"N\", \"verified_purchase\": \"N\", \"review_headline\": \"Incredible Energy\", \"review_body\": \"I was reading an article about this product and its benefits were pretty amazing, what I liked about it was that this LimuZ has multiple supplements in combination that have been proven to boost the immune system and provide incredible anti-aging benefits. After taking one of the packets, which are very convenient and portable, I felt incredible energy. I took the product about 10am today and its now 3 pm and I feel mental clarity and boost of overall body energy. I highly recommend this product. I will update as I continue taking this product to let you know the changes.     LimuZ Nei by Immune Tree combines its world famous colostrum with Limu, fucoidan, a form of zeolite and acetyl-l-carnitine to create the most remarkable antiaging product that the natural supplement industry has ever had available to them. LimuZ provides you with all the essential nutrients your body requires to heal and to repair. This powder put in any liquid is highly absorbable and has an immediate delivery into the blood stream because of the isotonic technology. Why? Because it has the same level of electrolyte balance as we have in our blood, so it is pulled into your system. It is the fluid of life so to speak.    Today's lifestyle is taking a heavy toll on our health. We are experienceing higher stress levels and more toxicity than our parents or even their parents did. Yet, our nutritional intake is far from optimal levels. Everyone from your kids to baby boomers can experience positive results from using LimuZ on a daily basis. Your body will thank you!!!!    LimuZ Assists In:      *anti-Aging   *Immune System Support   *Stress Reduction   *Ehances overall health and well being      Components & Properties Found in LimuZ:    All Essential Amino Acids  Building blocks for hormone, muscle and connective tissue.    All Essential Fatty Acids  Build cell membranes. The strength of the cell wall determines the rate which an individual ages.    All Essential Glyconutrients  Essential for proper cell communication (one of the 10 most important technologies of the 21st century according to MIT scientist). Glyconutrients also encourage natural killer cell and b-cell regeneration, therby speeding up the body's immune attack against foreign invaders.    Transfer Factors  Helps Immune System remember how to attack invading diseases.    Over 95 Immune Factors  Your immune system is under constant attack. when your body is properly defended, disease and illness decrease.    All 87 Natural Anti-Aging Growth Factors  IGF-1 and IGF-2 are some of the IGF-1 super family that stimulate new cell growth in the body, and have been proven to help with the following issues: repair damaged tissue; helps fight premature aging - lessens wrinkles, reduces fat, renews skin and bone, increases energy; increases lean muscle mass and sex drive; helps with muscle strength, skin texture, skin elasticity, new hair growth, flexibility, emotional stability and memory. The super family of growth factors is found in association with every cell and system in our body.    Fucoidan (over 700 scientific studies support the benfits)  Highly concentrated complex polysaccharides that represent one of the most important discoveries in nutrition and immune support. Some of the benefits include enhanced immune function, fighting allergies, decreasing cholesterol levels, lowering high blood pressure, stabilizing blood sugars, improve and support of liver functionality, contains powerful antioxidants and more.    Alginates  Bind heavy metals and radioactive substance.    Polyphenols  Highly concentrated antioxidant compound that collect dangerous free radicals capable of damaging cells and causing degenerative conditions.    Live Plant Enzymes  Boost protein digestion, immune function and overall health.    Supplement Facts  Serving Size 6.1 grams  Servings per Container 30    Amount per Serving    Calories 10  Total Carbohydrate 2g  Sodium 90mg  Potassium 125mg  Agt Zeolite 100mg    ProprietaryBlend 6.1g   Acetyl-L-Carnitine HCl, Colostrum, Limu (Laminaria japonica) 40:1, Fucoidan Extract Standerdized to 85% Glucosamine (as n-acetyl-glucosamine), Stevia.    Other Ingredients:  Malodextrin, Citric Acid, Potassium Bicarbonate, Sodium Bocarbonate, Cranberry Fruit Extract, Raspberry fruit Concentate.    Suggested Use:  For optimal results mix 1 packet with 2-4 oz of water. Consume one or two times a day prior to meals.\", \"review_date\": 2009-05-13, \"year\": 2009, \"product_category\": \"Health_&_Personal_Care\"}\n",
      "{\"marketplace\": \"US\", \"customer_id\": \"16147895\", \"review_id\": \"RIN3JIWN80W9F\", \"product_id\": \"B00A7239EK\", \"product_parent\": \"20468026\", \"product_title\": \"SODIAL(R) Silver Tone Double Edge Blade Razor Shaver w Nonslip Metal Handle\", \"star_rating\": 1, \"helpful_votes\": 1, \"total_votes\": 1, \"vine\": \"N\", \"verified_purchase\": \"Y\", \"review_headline\": \"Step up\", \"review_body\": \"Pay a little more and take a huge step up.\", \"review_date\": 2015-05-02, \"year\": 2015, \"product_category\": \"Health_&_Personal_Care\"}\n",
      "{\"marketplace\": \"US\", \"customer_id\": \"52655934\", \"review_id\": \"R2JI2ATPYRQMWD\", \"product_id\": \"B000AEGCI0\", \"product_parent\": \"823806669\", \"product_title\": \"Carex Quad Cane with Offset Handle, Small Base\", \"star_rating\": 1, \"helpful_votes\": 5, \"total_votes\": 6, \"vine\": \"N\", \"verified_purchase\": \"Y\", \"review_headline\": \"Flimsy cane for a big guy\", \"review_body\": \"This cane extends to accommodate tall users. However, it collapsed when used and nearly sent my father through a glass door. The metal is not as heavy duty as his other cane. I returned it for a full refund ASAP.\", \"review_date\": 2009-05-13, \"year\": 2009, \"product_category\": \"Health_&_Personal_Care\"}\n",
      "{\"marketplace\": \"US\", \"customer_id\": \"30160390\", \"review_id\": \"RUYNGAS5MV9LB\", \"product_id\": \"B005SUEZ0I\", \"product_parent\": \"155985092\", \"product_title\": \"USA Made Physician's Choice Diabetic Crew Socks - 12 Pair\", \"star_rating\": 1, \"helpful_votes\": 0, \"total_votes\": 0, \"vine\": \"N\", \"verified_purchase\": \"Y\", \"review_headline\": \"GOT WHAT I PAID FOR\", \"review_body\": \"&#34;Undersized&#34; and &#34;Fair at best Quality&#34; Got what I paid for!\", \"review_date\": 2015-05-02, \"year\": 2015, \"product_category\": \"Health_&_Personal_Care\"}\n",
      "{\"marketplace\": \"US\", \"customer_id\": \"10800470\", \"review_id\": \"R2AG9XJ7Y4EN2X\", \"product_id\": \"B0008IVREW\", \"product_parent\": \"909977336\", \"product_title\": \"100% Casein Protein\", \"star_rating\": 3, \"helpful_votes\": 1, \"total_votes\": 1, \"vine\": \"N\", \"verified_purchase\": \"N\", \"review_headline\": \"Be warned.\", \"review_body\": \"I'm on my first batch still but the stuff in this tub blends very easily.  I add the water first and it stirs right in with a fork.  Maybe not easy for a teacup but in anything taller I would skip the blender.  I got the vanilla and am not a fan of the sucralose.  This taste is so strong it made my gums tingle at first. I have likely been spoiled by the ON Any Whey which is a pure protein product.  Tons of protein for the buck and does the job good enough.  I wish ON would manufacture the equivalent of Any Whey with flavor free casein to give folks like me the pure protein taste.\", \"review_date\": 2009-05-13, \"year\": 2009, \"product_category\": \"Health_&_Personal_Care\"}\n",
      "{\"marketplace\": \"US\", \"customer_id\": \"47303853\", \"review_id\": \"R17A1PDD62G73T\", \"product_id\": \"B004GJRG3K\", \"product_parent\": \"53231948\", \"product_title\": \"GreenAir Spa Vapor + Advanced Wellness Instant Healthful Mist Therapy\", \"star_rating\": 4, \"helpful_votes\": 0, \"total_votes\": 0, \"vine\": \"N\", \"verified_purchase\": \"Y\", \"review_headline\": \"had to replace one, but still works well\", \"review_body\": \"Bought 2. The first once stopped working after a few weeks. During the night, even though the water was all gone it continued to run and started burning the oils to the bottom, thankfully I woke up in time to unplug it. They sent me a replacement bottom. Both still working great. Last about 4-6 hours\", \"review_date\": 2015-05-02, \"year\": 2015, \"product_category\": \"Health_&_Personal_Care\"}\n",
      "{\"marketplace\": \"US\", \"customer_id\": \"47579853\", \"review_id\": \"R33DK2KN2GFHK3\", \"product_id\": \"B000K8FF3O\", \"product_parent\": \"147038045\", \"product_title\": \"Neoprene Workout Shorts\", \"star_rating\": 1, \"helpful_votes\": 0, \"total_votes\": 0, \"vine\": \"N\", \"verified_purchase\": \"N\", \"review_headline\": \"Good Concept\", \"review_body\": \"This is a good concept for sweating the fat however someone should have realized that a zipper closure was not optimal. The zipper slides down while your body is in motion pinching the skin on its way down and that is painful. They should have gone with a velcro concept like most Neoprene products. Ever see the movie \\\\\\\\\\\"Something About Mary\\\\\\\\\\\"... get pinched by a zipper any where on your body and you will never forget the experience!\", \"review_date\": 2009-05-13, \"year\": 2009, \"product_category\": \"Health_&_Personal_Care\"}\n",
      "{\"marketplace\": \"US\", \"customer_id\": \"36777586\", \"review_id\": \"R3GOSQW7MJEU73\", \"product_id\": \"B000KPO9QG\", \"product_parent\": \"462459093\", \"product_title\": \"Super Colon Cleanse Supplement\", \"star_rating\": 5, \"helpful_votes\": 0, \"total_votes\": 1, \"vine\": \"N\", \"verified_purchase\": \"Y\", \"review_headline\": \"Five Stars\", \"review_body\": \"it works and helps to loose weight within 2 weeks\", \"review_date\": 2015-05-02, \"year\": 2015, \"product_category\": \"Health_&_Personal_Care\"}\n",
      "{\"marketplace\": \"US\", \"customer_id\": \"14196899\", \"review_id\": \"R1HG8EXO7YR3B4\", \"product_id\": \"B000V036UK\", \"product_parent\": \"988415473\", \"product_title\": \"EasyTouch Insulin Syringe 31 Gauge&#44; 1cc&#44; 5/16\\\"&#44; 100 Count\", \"star_rating\": 2, \"helpful_votes\": 0, \"total_votes\": 3, \"vine\": \"N\", \"verified_purchase\": \"N\", \"review_headline\": \"ver slow but comfortable\", \"review_body\": \"if you are not afraid of needles try the 29 gauge since this one takes too long.\", \"review_date\": 2009-05-13, \"year\": 2009, \"product_category\": \"Health_&_Personal_Care\"}\n",
      "{\"marketplace\": \"US\", \"customer_id\": \"17891984\", \"review_id\": \"R2SF9N3C4BVVCU\", \"product_id\": \"B0041CZK0S\", \"product_parent\": \"729252129\", \"product_title\": \"Biofreeze Pain Relief Gel for Arthritis, 3 oz, Cold Topical Analgesic, Fast Acting & Long Lasting Cooling Pain Reliever for Muscle, Joint, & Back Pain, Original Green Formula\", \"star_rating\": 5, \"helpful_votes\": 0, \"total_votes\": 0, \"vine\": \"N\", \"verified_purchase\": \"Y\", \"review_headline\": \"Five Stars\", \"review_body\": \"Great stuff for aches and pains\", \"review_date\": 2015-05-02, \"year\": 2015, \"product_category\": \"Health_&_Personal_Care\"}\n",
      "{\"marketplace\": \"US\", \"customer_id\": \"35383575\", \"review_id\": \"R2GF3VSB3SQ91E\", \"product_id\": \"B001F0R7DW\", \"product_parent\": \"842072740\", \"product_title\": \"Now Foods Bromelain 2000 GDU, 500mg, 90 Tablets (Pack of 2)\", \"star_rating\": 5, \"helpful_votes\": 0, \"total_votes\": 0, \"vine\": \"N\", \"verified_purchase\": \"Y\", \"review_headline\": \"Great for inflammation of joints!\", \"review_body\": \"My doctor told me to take Bromelain for inflammation. I take one in the morning and one at night - it should be taken on an empty stomach - NOT with food. I have had great results with taking it, as with a lot of herbs, the effects are not immediate, they take a few weeks to really kick in, but of course you don't have any of the side effects from western medicine. (If taken with food, Bromelain acts as more of a digestive enzyme).\", \"review_date\": 2009-05-13, \"year\": 2009, \"product_category\": \"Health_&_Personal_Care\"}\n",
      "{\"marketplace\": \"US\", \"customer_id\": \"5585652\", \"review_id\": \"R19W62KJTURGAO\", \"product_id\": \"B007RZJD1S\", \"product_parent\": \"220600777\", \"product_title\": \"Zensufu Back and Neck Pain Relief Acupressure Massage Mat and Neck Pillow Set\", \"star_rating\": 5, \"helpful_votes\": 0, \"total_votes\": 0, \"vine\": \"N\", \"verified_purchase\": \"Y\", \"review_headline\": \"I can however say it does work I love it.\", \"review_body\": \"I cant compare it to other similar products , as I have yet to try any but this one. I can however say it does work I love it.\", \"review_date\": 2015-05-02, \"year\": 2015, \"product_category\": \"Health_&_Personal_Care\"}\n",
      "{\"marketplace\": \"US\", \"customer_id\": \"15874387\", \"review_id\": \"R1J42BPFU2GZDZ\", \"product_id\": \"B001FA1NYG\", \"product_parent\": \"400188930\", \"product_title\": \"Seventh Generation Shower Cleaner, Green Mandarin & Leaf, 32-Ounce Bottles (Pack of 6)\", \"star_rating\": 5, \"helpful_votes\": 1, \"total_votes\": 2, \"vine\": \"N\", \"verified_purchase\": \"Y\", \"review_headline\": \"Clean, Safe, Healthy, and Environmentally Friendly\", \"review_body\": \"I bought this cleaning products because my wife is always buying save, healthy, and environmentally friendly cleaning supplies. I don't know in detail on how the product is performing since I don't clean the house myself but the best thing I've noticed is that there isn't a unbearable chemical smell after each cleaning which is a BIG PLUS for us. No negatives.\", \"review_date\": 2009-05-13, \"year\": 2009, \"product_category\": \"Health_&_Personal_Care\"}\n"
     ]
    }
   ],
   "source": [
    "df2.show(10)"
   ]
  },
  {
   "cell_type": "code",
   "execution_count": null,
   "id": "7f5fd79d",
   "metadata": {},
   "outputs": [],
   "source": []
  }
 ],
 "metadata": {
  "kernelspec": {
   "display_name": "Glue PySpark",
   "language": "python",
   "name": "glue_pyspark"
  },
  "language_info": {
   "codemirror_mode": {
    "name": "python",
    "version": 3
   },
   "file_extension": ".py",
   "mimetype": "text/x-python",
   "name": "python",
   "pygments_lexer": "python3",
   "version": "3.8.10"
  }
 },
 "nbformat": 4,
 "nbformat_minor": 5
}

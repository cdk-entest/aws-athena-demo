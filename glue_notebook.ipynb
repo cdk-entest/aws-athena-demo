{
 "cells": [
  {
   "attachments": {},
   "cell_type": "markdown",
   "id": "375aafde",
   "metadata": {},
   "source": [
    "### Glue Spark Notebook Run From Local \n",
    "- haimtran May 15, 2023"
   ]
  },
  {
   "cell_type": "code",
   "execution_count": 4,
   "id": "93c78b7a",
   "metadata": {
    "vscode": {
     "languageId": "python"
    }
   },
   "outputs": [
    {
     "data": {
      "text/markdown": [
       "\n",
       "# Available Magic Commands\n",
       "\n",
       "## Sessions Magic\n",
       "\n",
       "----\n",
       "    %help                             Return a list of descriptions and input types for all magic commands. \n",
       "    %profile            String        Specify a profile in your aws configuration to use as the credentials provider.\n",
       "    %region             String        Specify the AWS region in which to initialize a session. \n",
       "                                      Default from ~/.aws/config on Linux or macOS, \n",
       "                                      or C:\\Users\\ USERNAME \\.aws\\config\" on Windows.\n",
       "    %idle_timeout       Int           The number of minutes of inactivity after which a session will timeout. \n",
       "                                      Default: 2880 minutes (48 hours).\n",
       "    %session_id_prefix  String        Define a String that will precede all session IDs in the format \n",
       "                                      [session_id_prefix]-[session_id]. If a session ID is not provided,\n",
       "                                      a random UUID will be generated.\n",
       "    %status                           Returns the status of the current Glue session including its duration, \n",
       "                                      configuration and executing user / role.\n",
       "    %session_id                       Returns the session ID for the running session. \n",
       "    %list_sessions                    Lists all currently running sessions by ID.\n",
       "    %stop_session                     Stops the current session.\n",
       "    %glue_version       String        The version of Glue to be used by this session. \n",
       "                                      Currently, the only valid options are 2.0 and 3.0. \n",
       "                                      Default: 2.0.\n",
       "----\n",
       "\n",
       "## Selecting Job Types\n",
       "\n",
       "----\n",
       "    %streaming          String        Sets the session type to Glue Streaming.\n",
       "    %etl                String        Sets the session type to Glue ETL.\n",
       "    %glue_ray           String        Sets the session type to Glue Ray.\n",
       "----\n",
       "\n",
       "## Glue Config Magic \n",
       "*(common across all job types)*\n",
       "\n",
       "----\n",
       "\n",
       "    %%configure         Dictionary    A json-formatted dictionary consisting of all configuration parameters for \n",
       "                                      a session. Each parameter can be specified here or through individual magics.\n",
       "    %iam_role           String        Specify an IAM role ARN to execute your session with.\n",
       "                                      Default from ~/.aws/config on Linux or macOS, \n",
       "                                      or C:\\Users\\%USERNAME%\\.aws\\config` on Windows.\n",
       "    %number_of_workers  int           The number of workers of a defined worker_type that are allocated \n",
       "                                      when a session runs.\n",
       "                                      Default: 5.\n",
       "    %additional_python_modules  List  Comma separated list of additional Python modules to include in your cluster \n",
       "                                      (can be from Pypi or S3).\n",
       "----\n",
       "\n",
       "                                      \n",
       "## Magic for Spark Jobs (ETL & Streaming)\n",
       "\n",
       "----\n",
       "    %worker_type        String        Set the type of instances the session will use as workers. \n",
       "                                      ETL and Streaming support G.1X and G.2X. \n",
       "                                      Default: G.1X.\n",
       "    %connections        List          Specify a comma separated list of connections to use in the session.\n",
       "    %extra_py_files     List          Comma separated list of additional Python files From S3.\n",
       "    %extra_jars         List          Comma separated list of additional Jars to include in the cluster.\n",
       "    %spark_conf         String        Specify custom spark configurations for your session. \n",
       "                                      E.g. %spark_conf spark.serializer=org.apache.spark.serializer.KryoSerializer\n",
       "----\n",
       "                                      \n",
       "## Magic for Ray Job\n",
       "\n",
       "----\n",
       "    %min_workers        Int           The minimum number of workers that are allocated to a Ray job. \n",
       "                                      Default: 1.\n",
       "    %object_memory_head Int           The percentage of free memory on the instance head node after a warm start. \n",
       "                                      Minimum: 0. Maximum: 100.\n",
       "    %object_memory_worker Int         The percentage of free memory on the instance worker nodes after a warm start. \n",
       "                                      Minimum: 0. Maximum: 100.\n",
       "----\n",
       "\n",
       "## Action Magic\n",
       "\n",
       "----\n",
       "\n",
       "    %%sql               String        Run SQL code. All lines after the initial %%sql magic will be passed\n",
       "                                      as part of the SQL code.  \n",
       "----\n",
       "\n"
      ]
     },
     "metadata": {},
     "output_type": "display_data"
    }
   ],
   "source": [
    "%help"
   ]
  },
  {
   "attachments": {},
   "cell_type": "markdown",
   "id": "7e748add",
   "metadata": {},
   "source": [
    "### Configuration for Glue Session "
   ]
  },
  {
   "cell_type": "code",
   "execution_count": 22,
   "id": "52907988",
   "metadata": {
    "vscode": {
     "languageId": "python"
    }
   },
   "outputs": [
    {
     "name": "stderr",
     "output_type": "stream",
     "text": [
      "You are already connected to a glueetl session 14f8046f-86d3-4cec-8e34-f15cce1a26fd.\n",
      "\n",
      "No change will be made to the current session that is set as glueetl. The session configuration change will apply to newly created sessions.\n"
     ]
    },
    {
     "name": "stdout",
     "output_type": "stream",
     "text": [
      "Current iam_role is arn:aws:iam::212776191100:role/RoleForGlueNotebook\n",
      "iam_role has been set to arn:aws:iam::212776191100:role/RoleForGlueNotebook.\n"
     ]
    },
    {
     "name": "stderr",
     "output_type": "stream",
     "text": [
      "You are already connected to a glueetl session 14f8046f-86d3-4cec-8e34-f15cce1a26fd.\n",
      "\n",
      "No change will be made to the current session that is set as glueetl. The session configuration change will apply to newly created sessions.\n"
     ]
    },
    {
     "name": "stdout",
     "output_type": "stream",
     "text": [
      "Additional python modules to be included:\n",
      "matplotlib\n",
      "numpy\n",
      "pandas\n"
     ]
    },
    {
     "name": "stderr",
     "output_type": "stream",
     "text": [
      "You are already connected to a glueetl session 14f8046f-86d3-4cec-8e34-f15cce1a26fd.\n",
      "\n",
      "No change will be made to the current session that is set as glueetl. The session configuration change will apply to newly created sessions.\n"
     ]
    },
    {
     "name": "stdout",
     "output_type": "stream",
     "text": [
      "Current idle_timeout is 15 minutes.\n",
      "idle_timeout has been set to 15 minutes.\n"
     ]
    },
    {
     "name": "stderr",
     "output_type": "stream",
     "text": [
      "You are already connected to a glueetl session 14f8046f-86d3-4cec-8e34-f15cce1a26fd.\n",
      "\n",
      "No change will be made to the current session that is set as glueetl. The session configuration change will apply to newly created sessions.\n"
     ]
    },
    {
     "name": "stdout",
     "output_type": "stream",
     "text": [
      "Setting Glue version to: 3.0\n"
     ]
    },
    {
     "name": "stderr",
     "output_type": "stream",
     "text": [
      "You are already connected to a glueetl session 14f8046f-86d3-4cec-8e34-f15cce1a26fd.\n",
      "\n",
      "No change will be made to the current session that is set as glueetl. The session configuration change will apply to newly created sessions.\n"
     ]
    },
    {
     "name": "stdout",
     "output_type": "stream",
     "text": [
      "Previous number of workers: 5\n",
      "Setting new number of workers to: 5\n"
     ]
    }
   ],
   "source": [
    "%iam_role arn:aws:iam::212776191100:role/RoleForGlueNotebook\n",
    "%additional_python_modules matplotlib, numpy, pandas \n",
    "%idle_timeout 15 \n",
    "%glue_version 3.0 \n",
    "%number_of_workers 5\n",
    "# %region ap-southeast-1"
   ]
  },
  {
   "attachments": {},
   "cell_type": "markdown",
   "id": "5922b6f6",
   "metadata": {},
   "source": [
    "### Create GlueConetxt and Spark Session "
   ]
  },
  {
   "cell_type": "code",
   "execution_count": 14,
   "id": "8649c798",
   "metadata": {
    "vscode": {
     "languageId": "python"
    }
   },
   "outputs": [
    {
     "name": "stdout",
     "output_type": "stream",
     "text": [
      "\n"
     ]
    }
   ],
   "source": [
    "from awsglue.context import GlueContext\n",
    "from pyspark.context import SparkContext"
   ]
  },
  {
   "cell_type": "code",
   "execution_count": 15,
   "id": "014ce719",
   "metadata": {
    "vscode": {
     "languageId": "python"
    }
   },
   "outputs": [
    {
     "name": "stdout",
     "output_type": "stream",
     "text": [
      "\n"
     ]
    }
   ],
   "source": [
    "sc = SparkContext.getOrCreate()\n",
    "glueContext = GlueContext(sc)"
   ]
  },
  {
   "attachments": {},
   "cell_type": "markdown",
   "id": "95911159",
   "metadata": {},
   "source": [
    "### Spark Session and Read From S3 "
   ]
  },
  {
   "cell_type": "code",
   "execution_count": 16,
   "id": "965ec0a7",
   "metadata": {
    "vscode": {
     "languageId": "python"
    }
   },
   "outputs": [
    {
     "name": "stdout",
     "output_type": "stream",
     "text": [
      "\n"
     ]
    }
   ],
   "source": [
    "spark = glueContext.spark_session"
   ]
  },
  {
   "cell_type": "code",
   "execution_count": 5,
   "id": "1d386308",
   "metadata": {
    "vscode": {
     "languageId": "python"
    }
   },
   "outputs": [
    {
     "name": "stdout",
     "output_type": "stream",
     "text": [
      "\n"
     ]
    }
   ],
   "source": [
    "df = spark.read.parquet(\"s3://amazon-reviews-pds/parquet/product_category=Apparel/part-00000-495c48e6-96d6-4650-aa65-3c36a3516ddd.c000.snappy.parquet\")"
   ]
  },
  {
   "cell_type": "code",
   "execution_count": 6,
   "id": "099a4150",
   "metadata": {
    "vscode": {
     "languageId": "python"
    }
   },
   "outputs": [
    {
     "name": "stdout",
     "output_type": "stream",
     "text": [
      "+-----------+-----------+--------------+----------+--------------+--------------------+-----------+-------------+-----------+----+-----------------+--------------------+--------------------+-----------+----+\n",
      "|marketplace|customer_id|     review_id|product_id|product_parent|       product_title|star_rating|helpful_votes|total_votes|vine|verified_purchase|     review_headline|         review_body|review_date|year|\n",
      "+-----------+-----------+--------------+----------+--------------+--------------------+-----------+-------------+-----------+----+-----------------+--------------------+--------------------+-----------+----+\n",
      "|         US|   51114360|R2O1ZWACRT6PGH|B00004U3M4|     988649596|Adult Robin Costu...|          1|            9|         17|   N|                Y|   Not as advertised|This is an adult ...| 2001-10-10|2001|\n",
      "|         US|   17052567|R26I9SLC2PZTW7|B00WGDJJM4|     973297679|LookbookStore Wom...|          5|            2|          2|   N|                Y|Cute and Sophisti...|I received this s...| 2015-05-03|2015|\n",
      "|         US|   50898608|R32G5TO62W43KP|B00005OT7L|      90669056|Women's Black But...|          5|            0|          0|   N|                N|          Great Buy!|I just received m...| 2002-02-03|2002|\n",
      "|         US|     627263|R211FYZUJDCY3P|B00W8AL4KA|     357485050|Nintendo Zelda tr...|          5|            0|          0|   N|                N|          Five Stars|Love this wallet ...| 2015-05-03|2015|\n",
      "|         US|   35515711| RBQ22581QAV0U|B0000644X6|     101524150|Marc New York Lea...|          4|            0|          0|   N|                N|Fantastic and Ele...|Each time I glanc...| 2002-08-24|2002|\n",
      "|         US|   53017806|R2B5IGV10Y92E3|B00VWGXVTI|      57069564|Polare Full Grain...|          5|            9|         10|   N|                N|A nice looking, p...|[[VIDEOID:27844fd...| 2015-05-03|2015|\n",
      "|         US|   35360489|R26B0PZGWNYB3S|B00006B6YD|     757094727|Dogs Playing Poke...|          5|            0|          0|   N|                N|A classic for all...|This shirt is a d...| 2002-08-29|2002|\n",
      "|         US|     451719| RL6X6IE6D6PRG|B00VQMQ69U|     633742649|USA Flag T-Shirt ...|          5|            0|          0|   N|                Y|          Five Stars|          Nice shirt| 2015-05-03|2015|\n",
      "|         US|   35360489|R2TXWGT5KI15OL|B00006FXDZ|     512328322|Mind, Body, Soul ...|          4|            0|          0|   N|                N|Pleasing to the m...|This lounge outfi...| 2002-09-13|2002|\n",
      "|         US|   25693810|R1LYBT7I02B8V3|B00VMU5JVM|     159861482|Sassy Apparel Wom...|          5|            0|          0|   N|                Y|          Five Stars|Very cute skirt, ...| 2015-05-03|2015|\n",
      "+-----------+-----------+--------------+----------+--------------+--------------------+-----------+-------------+-----------+----+-----------------+--------------------+--------------------+-----------+----+\n",
      "only showing top 10 rows\n"
     ]
    }
   ],
   "source": [
    "df.show(10)"
   ]
  },
  {
   "attachments": {},
   "cell_type": "markdown",
   "id": "1abd87b6",
   "metadata": {},
   "source": [
    "### Create Spark Session "
   ]
  },
  {
   "cell_type": "code",
   "execution_count": 7,
   "id": "ca54034d",
   "metadata": {
    "vscode": {
     "languageId": "python"
    }
   },
   "outputs": [
    {
     "name": "stdout",
     "output_type": "stream",
     "text": [
      "\n"
     ]
    }
   ],
   "source": [
    "from pyspark.sql import SparkSession\n",
    "test = SparkSession.builder.appName(\"Test\").enableHiveSupport().getOrCreate()"
   ]
  },
  {
   "attachments": {},
   "cell_type": "markdown",
   "id": "fe65188b",
   "metadata": {},
   "source": [
    "### Read from S3 into DataFrame"
   ]
  },
  {
   "cell_type": "code",
   "execution_count": 19,
   "id": "e0abe78b",
   "metadata": {
    "vscode": {
     "languageId": "python"
    }
   },
   "outputs": [
    {
     "name": "stdout",
     "output_type": "stream",
     "text": [
      "\n"
     ]
    }
   ],
   "source": [
    "output = test.read.parquet(\"s3://amazon-reviews-pds/parquet/product_category=Apparel/part-00000-495c48e6-96d6-4650-aa65-3c36a3516ddd.c000.snappy.parquet\")"
   ]
  },
  {
   "cell_type": "code",
   "execution_count": 20,
   "id": "dc476a01",
   "metadata": {
    "vscode": {
     "languageId": "python"
    }
   },
   "outputs": [
    {
     "name": "stdout",
     "output_type": "stream",
     "text": [
      "+-----------+-----------+--------------+----------+--------------+--------------------+-----------+-------------+-----------+----+-----------------+--------------------+--------------------+-----------+----+\n",
      "|marketplace|customer_id|     review_id|product_id|product_parent|       product_title|star_rating|helpful_votes|total_votes|vine|verified_purchase|     review_headline|         review_body|review_date|year|\n",
      "+-----------+-----------+--------------+----------+--------------+--------------------+-----------+-------------+-----------+----+-----------------+--------------------+--------------------+-----------+----+\n",
      "|         US|   51114360|R2O1ZWACRT6PGH|B00004U3M4|     988649596|Adult Robin Costu...|          1|            9|         17|   N|                Y|   Not as advertised|This is an adult ...| 2001-10-10|2001|\n",
      "|         US|   17052567|R26I9SLC2PZTW7|B00WGDJJM4|     973297679|LookbookStore Wom...|          5|            2|          2|   N|                Y|Cute and Sophisti...|I received this s...| 2015-05-03|2015|\n",
      "|         US|   50898608|R32G5TO62W43KP|B00005OT7L|      90669056|Women's Black But...|          5|            0|          0|   N|                N|          Great Buy!|I just received m...| 2002-02-03|2002|\n",
      "|         US|     627263|R211FYZUJDCY3P|B00W8AL4KA|     357485050|Nintendo Zelda tr...|          5|            0|          0|   N|                N|          Five Stars|Love this wallet ...| 2015-05-03|2015|\n",
      "|         US|   35515711| RBQ22581QAV0U|B0000644X6|     101524150|Marc New York Lea...|          4|            0|          0|   N|                N|Fantastic and Ele...|Each time I glanc...| 2002-08-24|2002|\n",
      "|         US|   53017806|R2B5IGV10Y92E3|B00VWGXVTI|      57069564|Polare Full Grain...|          5|            9|         10|   N|                N|A nice looking, p...|[[VIDEOID:27844fd...| 2015-05-03|2015|\n",
      "|         US|   35360489|R26B0PZGWNYB3S|B00006B6YD|     757094727|Dogs Playing Poke...|          5|            0|          0|   N|                N|A classic for all...|This shirt is a d...| 2002-08-29|2002|\n",
      "|         US|     451719| RL6X6IE6D6PRG|B00VQMQ69U|     633742649|USA Flag T-Shirt ...|          5|            0|          0|   N|                Y|          Five Stars|          Nice shirt| 2015-05-03|2015|\n",
      "|         US|   35360489|R2TXWGT5KI15OL|B00006FXDZ|     512328322|Mind, Body, Soul ...|          4|            0|          0|   N|                N|Pleasing to the m...|This lounge outfi...| 2002-09-13|2002|\n",
      "|         US|   25693810|R1LYBT7I02B8V3|B00VMU5JVM|     159861482|Sassy Apparel Wom...|          5|            0|          0|   N|                Y|          Five Stars|Very cute skirt, ...| 2015-05-03|2015|\n",
      "+-----------+-----------+--------------+----------+--------------+--------------------+-----------+-------------+-----------+----+-----------------+--------------------+--------------------+-----------+----+\n",
      "only showing top 10 rows\n"
     ]
    }
   ],
   "source": [
    "output.show(10)"
   ]
  },
  {
   "attachments": {},
   "cell_type": "markdown",
   "id": "b470790d",
   "metadata": {},
   "source": [
    "### Read From Data Catalog Table  "
   ]
  },
  {
   "cell_type": "code",
   "execution_count": 23,
   "id": "2470ffb2",
   "metadata": {
    "vscode": {
     "languageId": "python"
    }
   },
   "outputs": [],
   "source": [
    "df2 = glueContext.create_dynamic_frame.from_catalog(database=\"default\", table_name=\"amazon_reviews_parquet_table\")"
   ]
  },
  {
   "cell_type": "code",
   "execution_count": 12,
   "id": "172f2273",
   "metadata": {
    "vscode": {
     "languageId": "python"
    }
   },
   "outputs": [
    {
     "name": "stdout",
     "output_type": "stream",
     "text": [
      "{\"marketplace\": \"US\", \"customer_id\": \"17050420\", \"review_id\": \"R3QP7FJW6GAB3M\", \"product_id\": \"B007T0CIVS\", \"product_parent\": \"224029078\", \"product_title\": \"Preethi Eco Twin Jar Mixer Grinder, 550-Watt\", \"star_rating\": 5, \"helpful_votes\": 3, \"total_votes\": 4, \"vine\": \"N\", \"verified_purchase\": \"Y\", \"review_headline\": \"Finally something I can use\", \"review_body\": \"I always believed that the American blenders went toe to toe with the Indian ones, at least the affordable ones. I was getting tired of the blenders that only seemed to work when water was added or spice mixers that just tossed stuff around without actually grinding anything.<br /><br />Finally here's something that is pretty basic by Indian standards but so very effective. It comes with 2 jar and 4 lids. there are 2 lids for each jar. One adds a lot of room and the other one reduces it. I use the Large lid when I'm blending something like Dosa batter and the smaller lid for chutneys.<br /><br />There's also one extra blade (am not sure if this is for a special purpose or just an extra blade!).<br /><br />The motor is 550W which is not as powerful as the newer 750W Mixers out there but it does the job for half the cost. More value for money if you ask me.<br /><br />The package includes the usual warranty card and manual etc.<br /><br />Shipping was on time and it was well packaged since the mixie came in an extra box with stuffing.<br /><br />All in all a very good purchase for me. Hope it works out for you too.\", \"review_date\": 2012-06-29, \"year\": 2012, \"product_category\": \"Kitchen\"}\n",
      "{\"marketplace\": \"US\", \"customer_id\": \"51374151\", \"review_id\": \"R2H0VTCQEWTU2L\", \"product_id\": \"B00T6TBJ5Q\", \"product_parent\": \"39113186\", \"product_title\": \"Eco-Carafe for Keurig 2.0, K300, K400, K500 Series\", \"star_rating\": 4, \"helpful_votes\": 0, \"total_votes\": 0, \"vine\": \"N\", \"verified_purchase\": \"Y\", \"review_headline\": \"Works as Expected\", \"review_body\": \"Works as expected\", \"review_date\": 2015-05-03, \"year\": 2015, \"product_category\": \"Kitchen\"}\n",
      "{\"marketplace\": \"US\", \"customer_id\": \"25039641\", \"review_id\": \"RKCD7QEJPCNLD\", \"product_id\": \"B001E8TLKC\", \"product_parent\": \"789078430\", \"product_title\": \"Spectrum Scroll Wall Mount Spice Rack\", \"star_rating\": 5, \"helpful_votes\": 1, \"total_votes\": 1, \"vine\": \"N\", \"verified_purchase\": \"Y\", \"review_headline\": \"Great product\", \"review_body\": \"It's a well made product, I love it. I use it for nail polish. It holds about 55 for me. I am going to buy another one, for the price how could I not. It took less then 5 minutes to hang.\", \"review_date\": 2012-06-29, \"year\": 2012, \"product_category\": \"Kitchen\"}\n",
      "{\"marketplace\": \"US\", \"customer_id\": \"35459217\", \"review_id\": \"R2KM7KJOOF8U5W\", \"product_id\": \"B005O15EHE\", \"product_parent\": \"519958179\", \"product_title\": \"6 Piece Bakeware/Cookware Set with Red Plastic Covers\", \"star_rating\": 5, \"helpful_votes\": 0, \"total_votes\": 0, \"vine\": \"N\", \"verified_purchase\": \"Y\", \"review_headline\": \"Top quality\", \"review_body\": \"Pyrex quality, what else can I say. Will order more for sure.\", \"review_date\": 2015-05-03, \"year\": 2015, \"product_category\": \"Kitchen\"}\n",
      "{\"marketplace\": \"US\", \"customer_id\": \"32328671\", \"review_id\": \"RUAKC4VSSWOFT\", \"product_id\": \"B0036FH504\", \"product_parent\": \"816839911\", \"product_title\": \"Fox Run 4090 Wall Paper Towel Holder, Wood\", \"star_rating\": 5, \"helpful_votes\": 0, \"total_votes\": 0, \"vine\": \"N\", \"verified_purchase\": \"Y\", \"review_headline\": \"paper towel holder\", \"review_body\": \"very good towl holder will do business in future\", \"review_date\": 2012-06-29, \"year\": 2012, \"product_category\": \"Kitchen\"}\n",
      "{\"marketplace\": \"US\", \"customer_id\": \"28567755\", \"review_id\": \"R1Q46LQ914ZKQT\", \"product_id\": \"B00QK6K5FI\", \"product_parent\": \"956295784\", \"product_title\": \"Mr and Mrs Tea infuser - loose leaf herbal tea strainer for a mug or cup - grey and pink cute silicone tea filter in a set of two ?\", \"star_rating\": 5, \"helpful_votes\": 1, \"total_votes\": 1, \"vine\": \"N\", \"verified_purchase\": \"Y\", \"review_headline\": \"Five Stars\", \"review_body\": \"I love my tea infusers.\", \"review_date\": 2015-05-03, \"year\": 2015, \"product_category\": \"Kitchen\"}\n",
      "{\"marketplace\": \"US\", \"customer_id\": \"14303788\", \"review_id\": \"RQS0O4DRCU9DT\", \"product_id\": \"B00008GKDQ\", \"product_parent\": \"509759151\", \"product_title\": \"Lodge LPGI3 Cast Iron Reversible Grill/Griddle, 20-inch x 10.44-inch, Black\", \"star_rating\": 5, \"helpful_votes\": 2, \"total_votes\": 2, \"vine\": \"N\", \"verified_purchase\": \"Y\", \"review_headline\": \"A must for any kitchen\", \"review_body\": \"I see 484 for reviews for this Lodge grill/griddle, so what's one more.  First off, I have a gas stove.  I love to cook and I watch a lot of cooking shows.  I have seen this grill on several shows and they turn out what appears to be a great piece of meat, grilled veggies and are used for charring peppers too, so I bought one and put it right to work.  I have done sirloins, butterfly pork chops, chicken breast and even some hot dogs All on the grill side).  I have a great outdoor grill, but sometimes you just don't want to take the time to fire it up for a couple of pieces of meat.  This thing works great.  No need to start the grill for a few roasted peppers that a recipe may call for.  I'm marinating skirt steak and grilling fajitas this evening!  Haven't tried the griddle side smooth side), but I have other cast iron pieces of cookware that I use and I'm pretty sure I know how it will behave. I'll stick to my Caphalon griddle for pancakes, but will use the grill side of the Lodge for quesadillas, peppers, steaks and things of that nature.  So this grill performs great, does exactly what I wanted it to do. Great product, great price....a welcomed addition to my kitchen.  Lodge products are tried and true!\", \"review_date\": 2012-06-29, \"year\": 2012, \"product_category\": \"Kitchen\"}\n",
      "{\"marketplace\": \"US\", \"customer_id\": \"21682644\", \"review_id\": \"R14HPZCUNDT4EM\", \"product_id\": \"B00G4SCGNQ\", \"product_parent\": \"639954866\", \"product_title\": \"Meat Claws by Kassa (Set of 2) - Sharp Pulled Pork Shredder - Handler Carving Forks - Brisket BBQ Pulling\", \"star_rating\": 5, \"helpful_votes\": 0, \"total_votes\": 0, \"vine\": \"N\", \"verified_purchase\": \"Y\", \"review_headline\": \"Klaws Do It All\", \"review_body\": \"These things do just want you need them to do. I was able to shred 9 lbs of pork in a fraction of the time and I was able to get small pieces and thin chunks compared to a knock off product I bought. I love these klaws!!!\", \"review_date\": 2015-05-03, \"year\": 2015, \"product_category\": \"Kitchen\"}\n",
      "{\"marketplace\": \"US\", \"customer_id\": \"22994751\", \"review_id\": \"R3RKOCOB4C04DZ\", \"product_id\": \"B00447RFXK\", \"product_parent\": \"805632773\", \"product_title\": \"Bobble Water Bottle\", \"star_rating\": 5, \"helpful_votes\": 0, \"total_votes\": 1, \"vine\": \"N\", \"verified_purchase\": \"Y\", \"review_headline\": \"Bobble bottle\", \"review_body\": \"Product is awesome. Bought it here instead of in store because it was cheaper on amazon. Great deal and works good. Also many cool colors to pick from. Replacement filters are cheap too.\", \"review_date\": 2012-06-29, \"year\": 2012, \"product_category\": \"Kitchen\"}\n",
      "{\"marketplace\": \"US\", \"customer_id\": \"4483047\", \"review_id\": \"R1TJKNQLGIF0UW\", \"product_id\": \"B00N57RSNC\", \"product_parent\": \"656365593\", \"product_title\": \"Fruit Shaped Reusable Plastic Ice Cubes - Colors May Vary\", \"star_rating\": 5, \"helpful_votes\": 1, \"total_votes\": 1, \"vine\": \"N\", \"verified_purchase\": \"Y\", \"review_headline\": \"Great if you don't like watered down drinks\", \"review_body\": \"These are just as good as ice. They get your drink cool quickly but maybe just a little slower than actual ice. Nobody likes watered down drinks and that's what happens with ice. If you're the type of person that doesn't chug their ice cold beverage quickly then these are ideal for you. There's no possible way for your drink to be watered down with these. They're very easy to wash and quick to air dry, though you can hand dry them if you wish. A great purchase.\", \"review_date\": 2015-05-03, \"year\": 2015, \"product_category\": \"Kitchen\"}\n"
     ]
    }
   ],
   "source": [
    "df2.show(10)"
   ]
  },
  {
   "attachments": {},
   "cell_type": "markdown",
   "id": "7f5fd79d",
   "metadata": {},
   "source": [
    "### Plot With Glue Session "
   ]
  },
  {
   "cell_type": "code",
   "execution_count": 18,
   "id": "82f6ec37",
   "metadata": {
    "vscode": {
     "languageId": "python"
    }
   },
   "outputs": [
    {
     "name": "stdout",
     "output_type": "stream",
     "text": [
      "[<matplotlib.lines.Line2D object at 0x7f0d1d9e83d0>]\n",
      "\n"
     ]
    },
    {
     "data": {
      "image/png": "[encoded data removed]"
     },
     "metadata": {
      "image/png": {
       "height": 480,
       "width": 640
      }
     },
     "output_type": "display_data"
    }
   ],
   "source": [
    "import matplotlib.pyplot as plt\n",
    "fig,axe = plt.subplots(1,1)\n",
    "axe.plot([1,2,3,4,5],'b')\n",
    "%matplot plt"
   ]
  },
  {
   "attachments": {},
   "cell_type": "markdown",
   "id": "98988267",
   "metadata": {},
   "source": []
  }
 ],
 "metadata": {
  "kernelspec": {
   "display_name": "Glue PySpark",
   "language": "python",
   "name": "glue_pyspark"
  },
  "language_info": {
   "codemirror_mode": {
    "name": "python",
    "version": 3
   },
   "file_extension": ".py",
   "mimetype": "text/x-python",
   "name": "Python_Glue_Session",
   "pygments_lexer": "python3"
  }
 },
 "nbformat": 4,
 "nbformat_minor": 5
}

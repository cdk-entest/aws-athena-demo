{
 "cells": [
  {
   "attachments": {},
   "cell_type": "markdown",
   "id": "375aafde",
   "metadata": {},
   "source": [
    "### Glue Interactive Notebook \n",
    "- magics \n",
    "- read data from s3 \n",
    "- read data from catalog \n",
    "- write and create catalog \n",
    "- [Glue ETL Programming](https://docs.aws.amazon.com/glue/latest/dg/aws-glue-programming-etl-format-parquet-home.html) \n",
    "- [Glue Create Table Catalog](https://docs.aws.amazon.com/glue/latest/dg/update-from-job.html )\n",
    "- [Create table by Athenq query](https://github.com/cdk-entest/lakeformation-demo/blob/master/query/create_tsv_table.sql)\n",
    "- Create table using boto3 SDK"
   ]
  },
  {
   "cell_type": "code",
   "execution_count": 4,
   "id": "93c78b7a",
   "metadata": {
    "vscode": {
     "languageId": "python"
    }
   },
   "outputs": [
    {
     "data": {
      "text/markdown": [
       "\n",
       "# Available Magic Commands\n",
       "\n",
       "## Sessions Magic\n",
       "\n",
       "----\n",
       "    %help                             Return a list of descriptions and input types for all magic commands. \n",
       "    %profile            String        Specify a profile in your aws configuration to use as the credentials provider.\n",
       "    %region             String        Specify the AWS region in which to initialize a session. \n",
       "                                      Default from ~/.aws/config on Linux or macOS, \n",
       "                                      or C:\\Users\\ USERNAME \\.aws\\config\" on Windows.\n",
       "    %idle_timeout       Int           The number of minutes of inactivity after which a session will timeout. \n",
       "                                      Default: 2880 minutes (48 hours).\n",
       "    %session_id_prefix  String        Define a String that will precede all session IDs in the format \n",
       "                                      [session_id_prefix]-[session_id]. If a session ID is not provided,\n",
       "                                      a random UUID will be generated.\n",
       "    %status                           Returns the status of the current Glue session including its duration, \n",
       "                                      configuration and executing user / role.\n",
       "    %session_id                       Returns the session ID for the running session. \n",
       "    %list_sessions                    Lists all currently running sessions by ID.\n",
       "    %stop_session                     Stops the current session.\n",
       "    %glue_version       String        The version of Glue to be used by this session. \n",
       "                                      Currently, the only valid options are 2.0 and 3.0. \n",
       "                                      Default: 2.0.\n",
       "----\n",
       "\n",
       "## Selecting Job Types\n",
       "\n",
       "----\n",
       "    %streaming          String        Sets the session type to Glue Streaming.\n",
       "    %etl                String        Sets the session type to Glue ETL.\n",
       "    %glue_ray           String        Sets the session type to Glue Ray.\n",
       "----\n",
       "\n",
       "## Glue Config Magic \n",
       "*(common across all job types)*\n",
       "\n",
       "----\n",
       "\n",
       "    %%configure         Dictionary    A json-formatted dictionary consisting of all configuration parameters for \n",
       "                                      a session. Each parameter can be specified here or through individual magics.\n",
       "    %iam_role           String        Specify an IAM role ARN to execute your session with.\n",
       "                                      Default from ~/.aws/config on Linux or macOS, \n",
       "                                      or C:\\Users\\%USERNAME%\\.aws\\config` on Windows.\n",
       "    %number_of_workers  int           The number of workers of a defined worker_type that are allocated \n",
       "                                      when a session runs.\n",
       "                                      Default: 5.\n",
       "    %additional_python_modules  List  Comma separated list of additional Python modules to include in your cluster \n",
       "                                      (can be from Pypi or S3).\n",
       "----\n",
       "\n",
       "                                      \n",
       "## Magic for Spark Jobs (ETL & Streaming)\n",
       "\n",
       "----\n",
       "    %worker_type        String        Set the type of instances the session will use as workers. \n",
       "                                      ETL and Streaming support G.1X and G.2X. \n",
       "                                      Default: G.1X.\n",
       "    %connections        List          Specify a comma separated list of connections to use in the session.\n",
       "    %extra_py_files     List          Comma separated list of additional Python files From S3.\n",
       "    %extra_jars         List          Comma separated list of additional Jars to include in the cluster.\n",
       "    %spark_conf         String        Specify custom spark configurations for your session. \n",
       "                                      E.g. %spark_conf spark.serializer=org.apache.spark.serializer.KryoSerializer\n",
       "----\n",
       "                                      \n",
       "## Magic for Ray Job\n",
       "\n",
       "----\n",
       "    %min_workers        Int           The minimum number of workers that are allocated to a Ray job. \n",
       "                                      Default: 1.\n",
       "    %object_memory_head Int           The percentage of free memory on the instance head node after a warm start. \n",
       "                                      Minimum: 0. Maximum: 100.\n",
       "    %object_memory_worker Int         The percentage of free memory on the instance worker nodes after a warm start. \n",
       "                                      Minimum: 0. Maximum: 100.\n",
       "----\n",
       "\n",
       "## Action Magic\n",
       "\n",
       "----\n",
       "\n",
       "    %%sql               String        Run SQL code. All lines after the initial %%sql magic will be passed\n",
       "                                      as part of the SQL code.  \n",
       "----\n",
       "\n"
      ]
     },
     "metadata": {},
     "output_type": "display_data"
    }
   ],
   "source": [
    "%help"
   ]
  },
  {
   "attachments": {},
   "cell_type": "markdown",
   "id": "3d98581b",
   "metadata": {},
   "source": [
    "### Parameters, and Additional Libraries "
   ]
  },
  {
   "cell_type": "code",
   "execution_count": 10,
   "id": "255ed90e",
   "metadata": {
    "vscode": {
     "languageId": "python"
    }
   },
   "outputs": [
    {
     "name": "stdout",
     "output_type": "stream",
     "text": [
      "Additional python modules to be included:\n",
      "matplotlib\n",
      "numpy\n",
      "pandas\n",
      "Current idle_timeout is 2880 minutes.\n",
      "idle_timeout has been set to 60 minutes.\n",
      "Setting Glue version to: 3.0\n",
      "Previous number of workers: 5\n",
      "Setting new number of workers to: 5\n",
      "Current iam_role is arn:aws:iam::212776191100:role/OpsRole\n",
      "iam_role has been set to arn:aws:iam::212776191100:role/RoleForGlueNotebook.\n"
     ]
    }
   ],
   "source": [
    "# %region ap-southeast-1\n",
    "%additional_python_modules matplotlib, numpy, pandas \n",
    "%idle_timeout 60\n",
    "%glue_version 3.0 \n",
    "%number_of_workers 5\n",
    "%iam_role arn:aws:iam::212776191100:role/RoleForGlueNotebook"
   ]
  },
  {
   "cell_type": "code",
   "execution_count": 1,
   "id": "8649c798",
   "metadata": {
    "vscode": {
     "languageId": "python"
    }
   },
   "outputs": [
    {
     "name": "stdout",
     "output_type": "stream",
     "text": [
      "Trying to create a Glue session for the kernel.\n",
      "Worker Type: G.1X\n",
      "Number of Workers: 5\n",
      "Session ID: e2814ec9-c7f5-48ce-91a5-ba96fe01112b\n",
      "Job Type: glueetl\n",
      "Applying the following default arguments:\n",
      "--glue_kernel_version 0.37.2\n",
      "--enable-glue-datacatalog true\n",
      "--additional-python-modules matplotlib,numpy,pandas\n",
      "Waiting for session e2814ec9-c7f5-48ce-91a5-ba96fe01112b to get into ready status...\n",
      "Session e2814ec9-c7f5-48ce-91a5-ba96fe01112b has been created.\n",
      "\n"
     ]
    }
   ],
   "source": [
    "from awsglue.context import GlueContext\n",
    "from pyspark.context import SparkContext"
   ]
  },
  {
   "cell_type": "code",
   "execution_count": 2,
   "id": "014ce719",
   "metadata": {
    "vscode": {
     "languageId": "python"
    }
   },
   "outputs": [
    {
     "name": "stdout",
     "output_type": "stream",
     "text": [
      "\n"
     ]
    }
   ],
   "source": [
    "sc = SparkContext.getOrCreate()\n",
    "glueContext = GlueContext(sc)"
   ]
  },
  {
   "cell_type": "code",
   "execution_count": 3,
   "id": "3c68a940",
   "metadata": {
    "vscode": {
     "languageId": "python"
    }
   },
   "outputs": [
    {
     "name": "stdout",
     "output_type": "stream",
     "text": [
      "\n"
     ]
    }
   ],
   "source": [
    "# best practice passed by env or arguments\n",
    "catalog_id = \"212776191100\"\n",
    "lake_bucket_name = \"athena-query-result-athena-glue-access-demo\"\n",
    "table_name = \"amazon_reviews_tsv_88\"\n",
    "database_name = \"default\""
   ]
  },
  {
   "attachments": {},
   "cell_type": "markdown",
   "id": "2ec41d75",
   "metadata": {},
   "source": [
    "### Create a Table using Boto3 SDK"
   ]
  },
  {
   "cell_type": "code",
   "execution_count": 4,
   "id": "6fd044fc",
   "metadata": {
    "vscode": {
     "languageId": "python"
    }
   },
   "outputs": [
    {
     "name": "stdout",
     "output_type": "stream",
     "text": [
      "{'ResponseMetadata': {'RequestId': 'c73307f8-039d-478c-935a-d301a9af46e4', 'HTTPStatusCode': 200, 'HTTPHeaders': {'date': 'Mon, 15 May 2023 07:11:11 GMT', 'content-type': 'application/x-amz-json-1.1', 'content-length': '2', 'connection': 'keep-alive', 'x-amzn-requestid': 'c73307f8-039d-478c-935a-d301a9af46e4'}, 'RetryAttempts': 0}}\n"
     ]
    }
   ],
   "source": [
    "import boto3\n",
    "# create glue client\n",
    "client = boto3.client(\n",
    "    region_name=\"ap-southeast-1\", service_name=\"glue\"\n",
    ")\n",
    "\n",
    "# create tabe in catalog\n",
    "resp = client.create_table(\n",
    "    CatalogId=catalog_id,\n",
    "    DatabaseName=database_name,\n",
    "    TableInput={\n",
    "        \"Name\": table_name,\n",
    "        \"Description\": \"test\",\n",
    "        \"TableType\": \"EXTERNAL\",\n",
    "        \"Parameters\": {\"classification\": \"parquet\"},\n",
    "        \"StorageDescriptor\": {\n",
    "            \"Columns\": [\n",
    "                {\n",
    "                    \"Name\": \"marketplace\",\n",
    "                    \"Type\": \"string\",\n",
    "                },\n",
    "                {\n",
    "                    \"Name\": \"customer_id\",\n",
    "                    \"Type\": \"string\",\n",
    "                },\n",
    "                {\n",
    "                    \"Name\": \"review_id\",\n",
    "                    \"Type\": \"string\",\n",
    "                },\n",
    "                {\n",
    "                    \"Name\": \"product_id\",\n",
    "                    \"Type\": \"string\",\n",
    "                },\n",
    "                {\n",
    "                    \"Name\": \"product_parent\",\n",
    "                    \"Type\": \"string\",\n",
    "                },\n",
    "                {\n",
    "                    \"Name\": \"product_title\",\n",
    "                    \"Type\": \"string\",\n",
    "                },\n",
    "                {\n",
    "                    \"Name\": \"product_category\",\n",
    "                    \"Type\": \"string\",\n",
    "                },\n",
    "                {\n",
    "                    \"Name\": \"star_rating\",\n",
    "                    \"Type\": \"string\",\n",
    "                },\n",
    "                {\n",
    "                    \"Name\": \"helpful_vote\",\n",
    "                    \"Type\": \"string\",\n",
    "                },\n",
    "                {\n",
    "                    \"Name\": \"total_vote\",\n",
    "                    \"Type\": \"string\",\n",
    "                },\n",
    "                {\n",
    "                    \"Name\": \"vine\",\n",
    "                    \"Type\": \"string\",\n",
    "                },\n",
    "                {\n",
    "                    \"Name\": \"verified_purchase\",\n",
    "                    \"Type\": \"string\",\n",
    "                },\n",
    "                {\n",
    "                    \"Name\": \"review_headline\",\n",
    "                    \"Type\": \"string\",\n",
    "                },\n",
    "                {\n",
    "                    \"Name\": \"review_body\",\n",
    "                    \"Type\": \"string\",\n",
    "                },\n",
    "                {\n",
    "                    \"Name\": \"myyear\",\n",
    "                    \"Type\": \"string\",\n",
    "                },\n",
    "            ],\n",
    "            \"Location\": \"s3://{0}/{1}/\".format(\n",
    "                lake_bucket_name, table_name\n",
    "            ),\n",
    "            \"InputFormat\": \"org.apache.hadoop.hive.ql.io.parquet.MapredParquetInputFormat\",\n",
    "            \"OutputFormat\": \"org.apache.hadoop.hive.ql.io.parquet.MapredParquetOutputFormat\",\n",
    "            \"SerdeInfo\": {\n",
    "                \"Name\": \"ParquetHiveSerDe\",\n",
    "                \"SerializationLibrary\": \"org.apache.hadoop.hive.ql.io.parquet.serde.ParquetHiveSerDe\",\n",
    "            },\n",
    "            \"Compressed\": False,\n",
    "        },\n",
    "    },\n",
    ")\n",
    "\n",
    "print(resp)"
   ]
  },
  {
   "attachments": {},
   "cell_type": "markdown",
   "id": "bdbdacd1",
   "metadata": {},
   "source": [
    "### Read Data From S3 into a DataFrame  "
   ]
  },
  {
   "cell_type": "code",
   "execution_count": 5,
   "id": "530589b1",
   "metadata": {
    "vscode": {
     "languageId": "python"
    }
   },
   "outputs": [
    {
     "name": "stdout",
     "output_type": "stream",
     "text": [
      "\n"
     ]
    }
   ],
   "source": [
    "S3bucket_node1 = glueContext.create_dynamic_frame.from_options(\n",
    "    format_options={\n",
    "        \"quoteChar\": '\"',\n",
    "        \"withHeader\": True,\n",
    "        \"separator\": \"\\t\",\n",
    "    },\n",
    "    connection_type=\"s3\",\n",
    "    format=\"csv\",\n",
    "    connection_options={\n",
    "        \"paths\": [\"s3://amazon-reviews-pds/tsv/amazon_reviews_us_Sports_v1_00.tsv.gz\"],\n",
    "        \"recurse\": True,\n",
    "    },\n",
    "    transformation_ctx=\"S3bucket_node1\",\n",
    ")"
   ]
  },
  {
   "cell_type": "code",
   "execution_count": 6,
   "id": "c74873d3",
   "metadata": {
    "vscode": {
     "languageId": "python"
    }
   },
   "outputs": [
    {
     "name": "stdout",
     "output_type": "stream",
     "text": [
      "{\"marketplace\": \"US\", \"customer_id\": \"48945260\", \"review_id\": \"R1WBPB8MDCCN8F\", \"product_id\": \"B012P7UPSM\", \"product_parent\": \"409940130\", \"product_title\": \"Chicago Blackhawks Adult Cuff Knit Beanie w/ Pom One Size Fits All NHL Authentic Hat Cap - OSFA\", \"product_category\": \"Sports\", \"star_rating\": \"5\", \"helpful_votes\": \"0\", \"total_votes\": \"0\", \"vine\": \"N\", \"verified_purchase\": \"N\", \"review_headline\": \"LOVE IT. 6 stars!\", \"review_body\": \"Bought this last winter I love it! I'm female and the hat is so comfy and fits over my ears perfectly to keep me warm! Love love love this hat! Can't wait for this winter  :)\", \"review_date\": \"2015-08-31\"}\n",
      "{\"marketplace\": \"US\", \"customer_id\": \"5782091\", \"review_id\": \"R32M0YEWV77XG8\", \"product_id\": \"B001GQ3VHG\", \"product_parent\": \"657746679\", \"product_title\": \"Copag Poker Size Regular Index 1546 Playing Cards 2 decks (Black Gold Setup)\", \"product_category\": \"Sports\", \"star_rating\": \"5\", \"helpful_votes\": \"1\", \"total_votes\": \"1\", \"vine\": \"N\", \"verified_purchase\": \"Y\", \"review_headline\": \"Shipped fast.\", \"review_body\": \"These are the best plastic playing cards I've ever owned. I came here from another plastic set called &#34;Bicycle: Prestige&#34;. These copags put those to shame.\", \"review_date\": \"2015-08-31\"}\n",
      "{\"marketplace\": \"US\", \"customer_id\": \"45813853\", \"review_id\": \"RR8V7WR27NXJ5\", \"product_id\": \"B008VS8M58\", \"product_parent\": \"962442336\", \"product_title\": \"Baoer 223 5.56x45mm Caliber Cartridge Laser Bore Sighter Boresighter\", \"product_category\": \"Sports\", \"star_rating\": \"1\", \"helpful_votes\": \"0\", \"total_votes\": \"0\", \"vine\": \"N\", \"verified_purchase\": \"Y\", \"review_headline\": \"Good idea if it would work.\", \"review_body\": \"It looks good, the fit and finish were really good but it doesn't WORK! There's a short in it some where. The laser will work a few seconds and then it goes off. I replaced batteries with some new ones and it did the same thing. I replaced the new batteries with some more new ones and it did the same thing. So they're getting it back. If you're going to make something why not make sure it works? You don't make money getting it returned to you. If you can't do it for $6 bucks then charge $12. I'd much rather pay more for something that actually works as half price for a piece of junk that don't.\", \"review_date\": \"2015-08-31\"}\n",
      "{\"marketplace\": \"US\", \"customer_id\": \"1593730\", \"review_id\": \"R1MHO5V9Z932AY\", \"product_id\": \"B005F06F4U\", \"product_parent\": \"74305227\", \"product_title\": \"All Terrain Tackle Jig - Grass Master - June Bug - 3/4oz- 2 Pack\", \"product_category\": \"Sports\", \"star_rating\": \"5\", \"helpful_votes\": \"0\", \"total_votes\": \"0\", \"vine\": \"N\", \"verified_purchase\": \"Y\", \"review_headline\": \"Five Stars\", \"review_body\": \"Great jig\", \"review_date\": \"2015-08-31\"}\n",
      "{\"marketplace\": \"US\", \"customer_id\": \"29605511\", \"review_id\": \"R16PD71086BD2V\", \"product_id\": \"B010T4IE2C\", \"product_parent\": \"787185588\", \"product_title\": \"Swim Cap - 3 Pack (Blue, Black & Red)\", \"product_category\": \"Sports\", \"star_rating\": \"5\", \"helpful_votes\": \"0\", \"total_votes\": \"1\", \"vine\": \"N\", \"verified_purchase\": \"N\", \"review_headline\": \"Great quality silicon and very comfortable\", \"review_body\": \"I love swimming in the pool but my treated blonde hair gets really green from all the chlorine . I did order these caps through a special promotion to try them and share my honest opinion. I absolutely love them. They fit very well and snug to my head but yet can fit my daughter's extra long hair in it, and let me state here she has a lot of hair. Bright colors help me see where they are swimming , I just rinse them with tap water when I get home and hang to dry. Super elastic and again super comfortable .Mad of silicon they are super durable. Comes in zippered bags for storage.I do recommend them!\", \"review_date\": \"2015-08-31\"}\n",
      "{\"marketplace\": \"US\", \"customer_id\": \"11112959\", \"review_id\": \"R1Z8IFGWTRWXT6\", \"product_id\": \"B004RKJGLS\", \"product_parent\": \"94127483\", \"product_title\": \"adidas Men's Sport Performance Climalite Boxer Brief, Two-Pack\", \"product_category\": \"Sports\", \"star_rating\": \"3\", \"helpful_votes\": \"0\", \"total_votes\": \"0\", \"vine\": \"N\", \"verified_purchase\": \"Y\", \"review_headline\": \"Love everything about these except that the elastic waistband comes ...\", \"review_body\": \"Love everything about these except that the elastic waistband comes unraveled and comes apart!! perfectly sized, light, comfortable, great colors, great price. perfect material and concept just don't have much build quality\", \"review_date\": \"2015-08-31\"}\n",
      "{\"marketplace\": \"US\", \"customer_id\": \"108031\", \"review_id\": \"R3AUMSHAW73HWN\", \"product_id\": \"B005V3DCBU\", \"product_parent\": \"526977496\", \"product_title\": \"Nike Men's Performance Cotton Cushioned Crew Socks\", \"product_category\": \"Sports\", \"star_rating\": \"4\", \"helpful_votes\": \"2\", \"total_votes\": \"3\", \"vine\": \"N\", \"verified_purchase\": \"N\", \"review_headline\": \"Four Stars\", \"review_body\": \"not the best socks in the world but it still has good quality. thanks!\", \"review_date\": \"2015-08-31\"}\n",
      "{\"marketplace\": \"US\", \"customer_id\": \"13981540\", \"review_id\": \"R2KWDWFOHGX6FL\", \"product_id\": \"B00MHT9WN8\", \"product_parent\": \"26521265\", \"product_title\": \"Green Bay Packers NFL Team Apparel Women's Forward Progress Shirt Plus Sizes\", \"product_category\": \"Sports\", \"star_rating\": \"5\", \"helpful_votes\": \"0\", \"total_votes\": \"0\", \"vine\": \"N\", \"verified_purchase\": \"Y\", \"review_headline\": \"Five Stars\", \"review_body\": \"Love it\", \"review_date\": \"2015-08-31\"}\n",
      "{\"marketplace\": \"US\", \"customer_id\": \"37993909\", \"review_id\": \"R3H9543FWBWFBU\", \"product_id\": \"B001CSIRQ8\", \"product_parent\": \"652431165\", \"product_title\": \"Isokinetics Inc. Adjustable Balance Board - 16.5\\\" Round - 2 Levels of Difficulty - For Exercise and Physical Therapy\", \"product_category\": \"Sports\", \"star_rating\": \"5\", \"helpful_votes\": \"1\", \"total_votes\": \"1\", \"vine\": \"N\", \"verified_purchase\": \"Y\", \"review_headline\": \"can't wait to use it\", \"review_body\": \"Unfortunately I haven't been able to use my balance board as I just had surgery in my foot. But it arrived in good condition however the box itself was damaged\", \"review_date\": \"2015-08-31\"}\n",
      "{\"marketplace\": \"US\", \"customer_id\": \"26040213\", \"review_id\": \"RUANXOQ9W3OU5\", \"product_id\": \"B001KZ3NOO\", \"product_parent\": \"635861713\", \"product_title\": \"Aottop Quality Electronic Digital Vernier Caliper\", \"product_category\": \"Sports\", \"star_rating\": \"5\", \"helpful_votes\": \"0\", \"total_votes\": \"0\", \"vine\": \"N\", \"verified_purchase\": \"Y\", \"review_headline\": \"great product, accurate A+++\", \"review_body\": \"fast shipping , great product , accurate A+++\", \"review_date\": \"2015-08-31\"}\n"
     ]
    }
   ],
   "source": [
    "S3bucket_node1.show(10)"
   ]
  },
  {
   "attachments": {},
   "cell_type": "markdown",
   "id": "e999d583",
   "metadata": {},
   "source": [
    "### Enforce Schema and Data Type using PySpark DataFrame \n",
    "Glue Dynamic DataFrame is a wrapper of Spark DataFrame: \n",
    "- separator => delimiter \n",
    "- withHeader => header "
   ]
  },
  {
   "cell_type": "code",
   "execution_count": 7,
   "id": "891c3cb3",
   "metadata": {
    "vscode": {
     "languageId": "python"
    }
   },
   "outputs": [
    {
     "name": "stdout",
     "output_type": "stream",
     "text": [
      "\n"
     ]
    }
   ],
   "source": [
    "spark_session = glueContext.spark_session"
   ]
  },
  {
   "cell_type": "code",
   "execution_count": 8,
   "id": "829e62b7",
   "metadata": {
    "vscode": {
     "languageId": "python"
    }
   },
   "outputs": [
    {
     "name": "stdout",
     "output_type": "stream",
     "text": [
      "\n"
     ]
    }
   ],
   "source": [
    "from pyspark.sql.types import StructType, StringType, IntegerType \n",
    "\n",
    "schema = StructType() \\\n",
    "      .add(\"marketplace\",StringType(),True) \\\n",
    "      .add(\"customer_id\",StringType(),True) \\\n",
    "      .add(\"review_id\",StringType(),True) \\\n",
    "      .add(\"product_id\",StringType(),True) \\\n",
    "      .add(\"product_parent\",StringType(),True) \\\n",
    "      .add(\"product_title\",StringType(),True) \\\n",
    "      .add(\"product_category\",StringType(),True) \\\n",
    "      .add(\"star_rating\",StringType(),True) \\\n",
    "      .add(\"helpful_vote\",StringType(),True) \\\n",
    "      .add(\"total_vote\",StringType(),True) \\\n",
    "      .add(\"vine\",StringType(),True) \\\n",
    "      .add(\"verified_purchase\",StringType(),True) \\\n",
    "      .add(\"review_headline\",StringType(),True) \\\n",
    "      .add(\"review_body\",StringType(),True) \\\n",
    "      .add(\"myyear\",StringType(),True)"
   ]
  },
  {
   "cell_type": "code",
   "execution_count": 9,
   "id": "a9d2f1a2",
   "metadata": {
    "vscode": {
     "languageId": "python"
    }
   },
   "outputs": [
    {
     "name": "stdout",
     "output_type": "stream",
     "text": [
      "StructType(List(StructField(marketplace,StringType,true),StructField(customer_id,StringType,true),StructField(review_id,StringType,true),StructField(product_id,StringType,true),StructField(product_parent,StringType,true),StructField(product_title,StringType,true),StructField(product_category,StringType,true),StructField(star_rating,StringType,true),StructField(helpful_vote,StringType,true),StructField(total_vote,StringType,true),StructField(vine,StringType,true),StructField(verified_purchase,StringType,true),StructField(review_headline,StringType,true),StructField(review_body,StringType,true),StructField(myyear,StringType,true)))\n"
     ]
    }
   ],
   "source": [
    "df = spark_session.read.format(\"csv\")\\\n",
    ".option(\"header\", False)\\\n",
    ".option(\"delimiter\", \"\\t\")\\\n",
    ".option(\"quote\", '\"')\\\n",
    ".schema(schema)\\\n",
    ".load(\"s3://amazon-reviews-pds/tsv/amazon_reviews_us_Sports_v1_00.tsv.gz\")\n",
    "\n",
    "# df.selectExpr(\"cast(star_rating as int) star_rating\")\n",
    "# df.selectExpr(\"cast(helpful_vote as int) helpful_vote\")\n",
    "# df.selectExpr(\"cast(total_vote as int) total_vote\")\n",
    "\n",
    "print(df.schema)"
   ]
  },
  {
   "cell_type": "code",
   "execution_count": 10,
   "id": "5959c7ca",
   "metadata": {
    "vscode": {
     "languageId": "python"
    }
   },
   "outputs": [
    {
     "name": "stdout",
     "output_type": "stream",
     "text": [
      "+-----------+-----------+--------------+----------+--------------+--------------------+----------------+-----------+-------------+-----------+----+-----------------+--------------------+--------------------+-----------+\n",
      "|marketplace|customer_id|     review_id|product_id|product_parent|       product_title|product_category|star_rating| helpful_vote| total_vote|vine|verified_purchase|     review_headline|         review_body|     myyear|\n",
      "+-----------+-----------+--------------+----------+--------------+--------------------+----------------+-----------+-------------+-----------+----+-----------------+--------------------+--------------------+-----------+\n",
      "|marketplace|customer_id|     review_id|product_id|product_parent|       product_title|product_category|star_rating|helpful_votes|total_votes|vine|verified_purchase|     review_headline|         review_body|review_date|\n",
      "|         US|   48945260|R1WBPB8MDCCN8F|B012P7UPSM|     409940130|Chicago Blackhawk...|          Sports|          5|            0|          0|   N|                N|   LOVE IT. 6 stars!|Bought this last ...| 2015-08-31|\n",
      "|         US|    5782091|R32M0YEWV77XG8|B001GQ3VHG|     657746679|Copag Poker Size ...|          Sports|          5|            1|          1|   N|                Y|       Shipped fast.|These are the bes...| 2015-08-31|\n",
      "|         US|   45813853| RR8V7WR27NXJ5|B008VS8M58|     962442336|Baoer 223 5.56x45...|          Sports|          1|            0|          0|   N|                Y|Good idea if it w...|It looks good, th...| 2015-08-31|\n",
      "|         US|    1593730|R1MHO5V9Z932AY|B005F06F4U|      74305227|All Terrain Tackl...|          Sports|          5|            0|          0|   N|                Y|          Five Stars|           Great jig| 2015-08-31|\n",
      "|         US|   29605511|R16PD71086BD2V|B010T4IE2C|     787185588|Swim Cap - 3 Pack...|          Sports|          5|            0|          1|   N|                N|Great quality sil...|I love swimming i...| 2015-08-31|\n",
      "|         US|   11112959|R1Z8IFGWTRWXT6|B004RKJGLS|      94127483|adidas Men's Spor...|          Sports|          3|            0|          0|   N|                Y|Love everything a...|Love everything a...| 2015-08-31|\n",
      "|         US|     108031|R3AUMSHAW73HWN|B005V3DCBU|     526977496|Nike Men's Perfor...|          Sports|          4|            2|          3|   N|                N|          Four Stars|not the best sock...| 2015-08-31|\n",
      "|         US|   13981540|R2KWDWFOHGX6FL|B00MHT9WN8|      26521265|Green Bay Packers...|          Sports|          5|            0|          0|   N|                Y|          Five Stars|             Love it| 2015-08-31|\n",
      "|         US|   37993909|R3H9543FWBWFBU|B001CSIRQ8|     652431165|Isokinetics Inc. ...|          Sports|          5|            1|          1|   N|                Y|can't wait to use it|Unfortunately I h...| 2015-08-31|\n",
      "+-----------+-----------+--------------+----------+--------------+--------------------+----------------+-----------+-------------+-----------+----+-----------------+--------------------+--------------------+-----------+\n",
      "only showing top 10 rows\n"
     ]
    }
   ],
   "source": [
    "df.show(10)"
   ]
  },
  {
   "attachments": {},
   "cell_type": "markdown",
   "id": "c0b2e14d",
   "metadata": {},
   "source": [
    "### Write to Table's underlying Data "
   ]
  },
  {
   "cell_type": "code",
   "execution_count": 11,
   "id": "26ab1d3c",
   "metadata": {
    "vscode": {
     "languageId": "python"
    }
   },
   "outputs": [
    {
     "name": "stdout",
     "output_type": "stream",
     "text": [
      "\n"
     ]
    }
   ],
   "source": [
    "from awsglue.dynamicframe import DynamicFrame\n",
    "glue_df = DynamicFrame.fromDF(df, glueContext, \"GlueDF\")"
   ]
  },
  {
   "cell_type": "code",
   "execution_count": 12,
   "id": "a11a9342",
   "metadata": {
    "vscode": {
     "languageId": "python"
    }
   },
   "outputs": [
    {
     "name": "stdout",
     "output_type": "stream",
     "text": [
      "<awsglue.dynamicframe.DynamicFrame object at 0x7f4351de7b10>\n"
     ]
    }
   ],
   "source": [
    "glueContext.write_dynamic_frame.from_catalog(\n",
    "    frame=glue_df, \n",
    "    database= \"default\",\n",
    "    table_name=table_name,\n",
    "    transformation_ctx=\"S3bucket_node3\",\n",
    ")"
   ]
  },
  {
   "cell_type": "code",
   "execution_count": null,
   "id": "abf83bcd",
   "metadata": {
    "vscode": {
     "languageId": "python"
    }
   },
   "outputs": [],
   "source": [
    "# # fmt: off\n",
    "# S3bucket_node3 = glueContext.write_dynamic_frame.from_options(\n",
    "#     frame=S3bucket_node1,\n",
    "#     connection_type=\"s3\",\n",
    "#     format=\"glueparquet\",\n",
    "#     connection_options={\n",
    "#         \"path\": \"s3://{0}/parquet/\".format(data_lake_bucket),\n",
    "#         \"partitionKeys\": [\"product_category\"],\n",
    "#         \"enableUpdateCatalog\": True,\n",
    "#          \"database\":\"default\",\n",
    "#          \"table\":\"amazon_reviews_parquet_table\",\n",
    "#     },\n",
    "#     format_options={\"compression\": \"uncompressed\"},\n",
    "#     transformation_ctx=\"S3bucket_node3\",\n",
    "# )"
   ]
  },
  {
   "cell_type": "code",
   "execution_count": null,
   "id": "1270a67a",
   "metadata": {
    "vscode": {
     "languageId": "python"
    }
   },
   "outputs": [],
   "source": [
    "# dynamicFrame = glueContext.create_dynamic_frame.from_options(\n",
    "#     connection_type = \"s3\", \n",
    "#     connection_options = {\"paths\": [\"s3://{0}/amazon-review-tsv-parquet/\".format(data_lake_bucket)]}, \n",
    "#     format = \"parquet\"\n",
    "# )\n",
    "# # dataFrame = spark.read.parquet(\"s3://s3path/\")\n",
    "# dynamicFrame.show(10)"
   ]
  },
  {
   "cell_type": "code",
   "execution_count": null,
   "id": "bf9cdfbd",
   "metadata": {
    "vscode": {
     "languageId": "python"
    }
   },
   "outputs": [],
   "source": [
    "# # it take about 3 minutes haha \n",
    "# S3bucket_node5 = glueContext.getSink(\n",
    "#     path=\"s3://{0}/amazon-review-tsv-parquet/\".format(data_lake_bucket),\n",
    "#     connection_type=\"s3\",\n",
    "#     updateBehavior=\"UPDATE_IN_DATABASE\",\n",
    "#     partitionKeys=[],\n",
    "#     # compression=\"snappy\",\n",
    "#     enableUpdateCatalog=True,\n",
    "#     transformation_ctx=\"write_sink\",\n",
    "# )\n",
    "# S3bucket_node5.setCatalogInfo(\n",
    "#     catalogDatabase=\"default\", \n",
    "#     catalogTableName=\"amazon_review_tsv_parquet\"\n",
    "# )\n",
    "# S3bucket_node5.setFormat(\"glueparquet\")\n",
    "# S3bucket_node5.writeFrame(S3bucket_node1)"
   ]
  },
  {
   "attachments": {},
   "cell_type": "markdown",
   "id": "830eb24b",
   "metadata": {},
   "source": [
    "### Read From Glue Catalog "
   ]
  },
  {
   "cell_type": "code",
   "execution_count": 13,
   "id": "2470ffb2",
   "metadata": {
    "vscode": {
     "languageId": "python"
    }
   },
   "outputs": [
    {
     "name": "stdout",
     "output_type": "stream",
     "text": [
      "\n"
     ]
    }
   ],
   "source": [
    "df2 = glueContext.create_dynamic_frame.from_catalog(database=\"default\", table_name=table_name)"
   ]
  },
  {
   "cell_type": "code",
   "execution_count": 11,
   "id": "918caf9b",
   "metadata": {
    "vscode": {
     "languageId": "python"
    }
   },
   "outputs": [],
   "source": [
    "df2.show(10)"
   ]
  },
  {
   "attachments": {},
   "cell_type": "markdown",
   "id": "30383ce4",
   "metadata": {},
   "source": [
    "### Plot in Glue Notebook "
   ]
  },
  {
   "cell_type": "code",
   "execution_count": null,
   "id": "62162d76",
   "metadata": {
    "vscode": {
     "languageId": "python"
    }
   },
   "outputs": [],
   "source": [
    "import matplotlib.pyplot as plt\n",
    "fig,axe = plt.subplots(1,1)\n",
    "axe.plot([1,2,3,4,5],'b')\n",
    "%matplot plt"
   ]
  },
  {
   "cell_type": "code",
   "execution_count": null,
   "id": "8ad071a6",
   "metadata": {
    "vscode": {
     "languageId": "python"
    }
   },
   "outputs": [],
   "source": [
    "%stop_session"
   ]
  }
 ],
 "metadata": {
  "kernelspec": {
   "display_name": "Glue PySpark",
   "language": "python",
   "name": "glue_pyspark"
  },
  "language_info": {
   "codemirror_mode": {
    "name": "python",
    "version": 3
   },
   "file_extension": ".py",
   "mimetype": "text/x-python",
   "name": "Python_Glue_Session",
   "pygments_lexer": "python3"
  }
 },
 "nbformat": 4,
 "nbformat_minor": 5
}

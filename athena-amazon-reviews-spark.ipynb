{
 "cells": [
  {
   "cell_type": "code",
   "execution_count": 2,
   "metadata": {},
   "outputs": [
    {
     "name": "stdout",
     "output_type": "stream",
     "text": [
      "Calculation started (calculation_id=5ac3f9a5-eab4-eb27-57e5-d786b776a759) in (session=88c3f9a3-210c-0532-7cdf-257974843319). Checking calculation status...\n"
     ]
    },
    {
     "data": {
      "application/vnd.jupyter.widget-view+json": {
       "model_id": "7dcaa867ff9b4ea09e3a8d8cc0edfc5d",
       "version_major": 2,
       "version_minor": 0
      },
      "text/plain": [
       "Progress:   0%|          |elapsed time = 00:00s"
      ]
     },
     "metadata": {},
     "output_type": "display_data"
    },
    {
     "name": "stdout",
     "output_type": "stream",
     "text": [
      "Calculation completed.\n"
     ]
    }
   ],
   "source": [
    "df = spark.read.parquet(\"s3://amazon-reviews-pds/parquet/product_category=Apparel/part-00000-495c48e6-96d6-4650-aa65-3c36a3516ddd.c000.snappy.parquet\")"
   ]
  },
  {
   "cell_type": "code",
   "execution_count": 7,
   "metadata": {},
   "outputs": [
    {
     "name": "stdout",
     "output_type": "stream",
     "text": [
      "Calculation started (calculation_id=70c3f9a8-fa01-d50b-fae1-362e6e95729f) in (session=88c3f9a3-210c-0532-7cdf-257974843319). Checking calculation status...\n"
     ]
    },
    {
     "data": {
      "application/vnd.jupyter.widget-view+json": {
       "model_id": "622ea3b869504777835772af80936f04",
       "version_major": 2,
       "version_minor": 0
      },
      "text/plain": [
       "Progress:   0%|          |elapsed time = 00:00s"
      ]
     },
     "metadata": {},
     "output_type": "display_data"
    },
    {
     "name": "stdout",
     "output_type": "stream",
     "text": [
      "Calculation completed.\n",
      "+-----------+-----------+-----------+\n",
      "|marketplace|customer_id|star_rating|\n",
      "+-----------+-----------+-----------+\n",
      "|         US|   51114360|          1|\n",
      "|         US|   17052567|          5|\n",
      "|         US|   50898608|          5|\n",
      "|         US|     627263|          5|\n",
      "|         US|   35515711|          4|\n",
      "|         US|   53017806|          5|\n",
      "|         US|   35360489|          5|\n",
      "|         US|     451719|          5|\n",
      "|         US|   35360489|          4|\n",
      "|         US|   25693810|          5|\n",
      "|         US|   36772555|          5|\n",
      "|         US|   11144467|          4|\n",
      "|         US|   34449191|          5|\n",
      "|         US|   37989735|          1|\n",
      "|         US|   52547797|          5|\n",
      "|         US|   14964432|          1|\n",
      "|         US|   52958624|          4|\n",
      "|         US|   25982580|          3|\n",
      "|         US|   52791587|          5|\n",
      "|         US|   13134123|          2|\n",
      "+-----------+-----------+-----------+\n",
      "only showing top 20 rows\n",
      "\n"
     ]
    }
   ],
   "source": [
    "df.createOrReplaceTempView(\"people\")\n",
    "sqlDF = spark.sql(\"SELECT marketplace, customer_id, star_rating FROM people\")\n",
    "sqlDF.show()"
   ]
  },
  {
   "cell_type": "code",
   "execution_count": 10,
   "metadata": {},
   "outputs": [
    {
     "name": "stdout",
     "output_type": "stream",
     "text": [
      "Calculation started (calculation_id=48c3f9a9-9f9e-b59d-0b6b-50d4c1c3593e) in (session=88c3f9a3-210c-0532-7cdf-257974843319). Checking calculation status...\n"
     ]
    },
    {
     "data": {
      "application/vnd.jupyter.widget-view+json": {
       "model_id": "c288810d90334da2b030ad686d77b829",
       "version_major": 2,
       "version_minor": 0
      },
      "text/plain": [
       "Progress:   0%|          |elapsed time = 00:00s"
      ]
     },
     "metadata": {},
     "output_type": "display_data"
    },
    {
     "name": "stdout",
     "output_type": "stream",
     "text": [
      "Calculation completed.\n",
      "+-----------+-----------+-----------+\n",
      "|marketplace|customer_id|star_rating|\n",
      "+-----------+-----------+-----------+\n",
      "|         US|   51114360|          1|\n",
      "|         US|   17052567|          5|\n",
      "|         US|   50898608|          5|\n",
      "|         US|     627263|          5|\n",
      "|         US|   35515711|          4|\n",
      "|         US|   53017806|          5|\n",
      "|         US|   35360489|          5|\n",
      "|         US|     451719|          5|\n",
      "|         US|   35360489|          4|\n",
      "|         US|   25693810|          5|\n",
      "+-----------+-----------+-----------+\n",
      "only showing top 10 rows\n",
      "\n"
     ]
    }
   ],
   "source": [
    "df.select(\"marketplace\", \"customer_id\", \"star_rating\").show(10)"
   ]
  },
  {
   "cell_type": "code",
   "execution_count": 11,
   "metadata": {},
   "outputs": [
    {
     "name": "stdout",
     "output_type": "stream",
     "text": [
      "Calculation started (calculation_id=5ec3f9aa-10fa-0599-42ab-9be31b951306) in (session=88c3f9a3-210c-0532-7cdf-257974843319). Checking calculation status...\n"
     ]
    },
    {
     "data": {
      "application/vnd.jupyter.widget-view+json": {
       "model_id": "b8c697a109584c248eeebc973ab2daee",
       "version_major": 2,
       "version_minor": 0
      },
      "text/plain": [
       "Progress:   0%|          |elapsed time = 00:00s"
      ]
     },
     "metadata": {},
     "output_type": "display_data"
    },
    {
     "name": "stdout",
     "output_type": "stream",
     "text": [
      "Calculation completed.\n",
      "+-------+------------------+\n",
      "|summary|       star_rating|\n",
      "+-------+------------------+\n",
      "|  count|            589900|\n",
      "|   mean| 4.105531446007798|\n",
      "| stddev|1.2585715168061062|\n",
      "|    min|                 1|\n",
      "|    max|                 5|\n",
      "+-------+------------------+\n",
      "\n"
     ]
    }
   ],
   "source": [
    "df.select(\"star_rating\").describe().show()"
   ]
  },
  {
   "cell_type": "code",
   "execution_count": 12,
   "metadata": {},
   "outputs": [
    {
     "name": "stdout",
     "output_type": "stream",
     "text": [
      "Calculation started (calculation_id=d4c3f9aa-5882-ed13-fb4e-d781a90d8664) in (session=88c3f9a3-210c-0532-7cdf-257974843319). Checking calculation status...\n"
     ]
    },
    {
     "data": {
      "application/vnd.jupyter.widget-view+json": {
       "model_id": "37bec35043b047feaf7a5bc776b9e098",
       "version_major": 2,
       "version_minor": 0
      },
      "text/plain": [
       "Progress:   0%|          |elapsed time = 00:00s"
      ]
     },
     "metadata": {},
     "output_type": "display_data"
    },
    {
     "name": "stdout",
     "output_type": "stream",
     "text": [
      "Calculation completed.\n"
     ]
    }
   ],
   "source": [
    "df_rate = df.select(\"star_rating\").toPandas()"
   ]
  },
  {
   "cell_type": "code",
   "execution_count": 15,
   "metadata": {},
   "outputs": [
    {
     "name": "stdout",
     "output_type": "stream",
     "text": [
      "Calculation started (calculation_id=94c3f9aa-e56a-d212-e249-e0717957a800) in (session=88c3f9a3-210c-0532-7cdf-257974843319). Checking calculation status...\n"
     ]
    },
    {
     "data": {
      "application/vnd.jupyter.widget-view+json": {
       "model_id": "4bd0cf59268144198fb5eda5e4b79548",
       "version_major": 2,
       "version_minor": 0
      },
      "text/plain": [
       "Progress:   0%|          |elapsed time = 00:00s"
      ]
     },
     "metadata": {},
     "output_type": "display_data"
    },
    {
     "name": "stdout",
     "output_type": "stream",
     "text": [
      "Calculation completed.\n"
     ]
    }
   ],
   "source": [
    "import matplotlib.pyplot as plt"
   ]
  },
  {
   "cell_type": "code",
   "execution_count": 20,
   "metadata": {},
   "outputs": [
    {
     "name": "stdout",
     "output_type": "stream",
     "text": [
      "Calculation started (calculation_id=c8c3f9ac-9a7d-fed1-f61b-7556a7f45be2) in (session=88c3f9a3-210c-0532-7cdf-257974843319). Checking calculation status...\n"
     ]
    },
    {
     "data": {
      "application/vnd.jupyter.widget-view+json": {
       "model_id": "0cac15cc7582456aa466e52b0392ead5",
       "version_major": 2,
       "version_minor": 0
      },
      "text/plain": [
       "Progress:   0%|          |elapsed time = 00:00s"
      ]
     },
     "metadata": {},
     "output_type": "display_data"
    },
    {
     "name": "stdout",
     "output_type": "stream",
     "text": [
      "Calculation completed.\n"
     ]
    },
    {
     "data": {
      "image/png": "[encoded data removed]"
     },
     "metadata": {
      "image/png": {
       "height": 480,
       "width": 640
      }
     },
     "output_type": "display_data"
    }
   ],
   "source": [
    "fig,ax = plt.subplots()\n",
    "ax.plot([1,2,3,4], linewidth=1, color='r')\n",
    "plt.show()\n",
    "%matplot plt"
   ]
  },
  {
   "cell_type": "code",
   "execution_count": 33,
   "metadata": {},
   "outputs": [
    {
     "name": "stdout",
     "output_type": "stream",
     "text": [
      "Calculation started (calculation_id=e0c3f9b0-922b-efbb-7f04-30ba3dca27cd) in (session=88c3f9a3-210c-0532-7cdf-257974843319). Checking calculation status...\n"
     ]
    },
    {
     "data": {
      "application/vnd.jupyter.widget-view+json": {
       "model_id": "84d42d80189a4bd7ab7e1c69504003a0",
       "version_major": 2,
       "version_minor": 0
      },
      "text/plain": [
       "Progress:   0%|          |elapsed time = 00:00s"
      ]
     },
     "metadata": {},
     "output_type": "display_data"
    },
    {
     "name": "stdout",
     "output_type": "stream",
     "text": [
      "Calculation completed.\n"
     ]
    }
   ],
   "source": [
    "rates = df_rate.values.flatten()"
   ]
  },
  {
   "cell_type": "code",
   "execution_count": 34,
   "metadata": {},
   "outputs": [
    {
     "name": "stdout",
     "output_type": "stream",
     "text": [
      "Calculation started (calculation_id=eec3f9b0-ace9-bebd-8491-7c22d1807f9c) in (session=88c3f9a3-210c-0532-7cdf-257974843319). Checking calculation status...\n"
     ]
    },
    {
     "data": {
      "application/vnd.jupyter.widget-view+json": {
       "model_id": "7dad6f9ede114839aa80b16dd4ae4843",
       "version_major": 2,
       "version_minor": 0
      },
      "text/plain": [
       "Progress:   0%|          |elapsed time = 00:00s"
      ]
     },
     "metadata": {},
     "output_type": "display_data"
    },
    {
     "name": "stdout",
     "output_type": "stream",
     "text": [
      "Calculation completed.\n",
      "(589900,)\n",
      "\n"
     ]
    }
   ],
   "source": [
    "print(rates.shape)"
   ]
  },
  {
   "cell_type": "code",
   "execution_count": 48,
   "metadata": {},
   "outputs": [
    {
     "name": "stdout",
     "output_type": "stream",
     "text": [
      "Calculation started (calculation_id=c0c3f9bb-7cd0-c4a9-bcbb-e2de2e75bf98) in (session=88c3f9a3-210c-0532-7cdf-257974843319). Checking calculation status...\n"
     ]
    },
    {
     "data": {
      "application/vnd.jupyter.widget-view+json": {
       "model_id": "0acae5ed33324295a7611380e4f55555",
       "version_major": 2,
       "version_minor": 0
      },
      "text/plain": [
       "Progress:   0%|          |elapsed time = 00:00s"
      ]
     },
     "metadata": {},
     "output_type": "display_data"
    },
    {
     "name": "stdout",
     "output_type": "stream",
     "text": [
      "Calculation completed.\n"
     ]
    },
    {
     "data": {
      "image/png": "[encoded data removed]"
     },
     "metadata": {
      "image/png": {
       "height": 480,
       "width": 640
      }
     },
     "output_type": "display_data"
    }
   ],
   "source": [
    "fig,ax = plt.subplots()\n",
    "ax.hist(rates, [0.5, 1.5, 2.5, 3.5, 4.5, 5.5],rwidth=0.5, color='green', alpha=0.75)\n",
    "fig.suptitle('hist of rating star')\n",
    "ax.set_xlabel('star')\n",
    "ax.set_ylabel('vote')\n",
    "plt.show()\n",
    "%matplot plt "
   ]
  },
  {
   "cell_type": "code",
   "execution_count": 71,
   "metadata": {},
   "outputs": [
    {
     "name": "stdout",
     "output_type": "stream",
     "text": [
      "Calculation started (calculation_id=a2c3f9bf-8b3b-3811-e999-ab8bbc21789b) in (session=88c3f9a3-210c-0532-7cdf-257974843319). Checking calculation status...\n"
     ]
    },
    {
     "data": {
      "application/vnd.jupyter.widget-view+json": {
       "model_id": "de1f48eec6594fd6b5ea5efa5cf606b3",
       "version_major": 2,
       "version_minor": 0
      },
      "text/plain": [
       "Progress:   0%|          |elapsed time = 00:00s"
      ]
     },
     "metadata": {},
     "output_type": "display_data"
    },
    {
     "name": "stdout",
     "output_type": "stream",
     "text": [
      "Calculation completed.\n",
      "44368 with rating 1\n",
      "36948 with rating 2\n",
      "62307 with rating 3\n",
      "114717 with rating 4\n",
      "331560 with rating 5\n",
      "\n"
     ]
    }
   ],
   "source": [
    "print(\"{} with rating 1\".format(sum(rates < 2)))\n",
    "print(\"{} with rating 2\".format(sum((rates>1) & (rates<3))))\n",
    "print(\"{} with rating 3\".format(sum((rates>2) & (rates<4))))\n",
    "print(\"{} with rating 4\".format(sum((rates>3) & (rates<5))))\n",
    "print(\"{} with rating 5\".format(sum((rates>4) & (rates<6))))"
   ]
  },
  {
   "cell_type": "code",
   "execution_count": null,
   "metadata": {},
   "outputs": [],
   "source": []
  }
 ],
 "metadata": {
  "kernelspec": {
   "display_name": "Athena PySpark",
   "language": "python",
   "name": "kepler_python_kernel"
  },
  "language_info": {
   "codemirror_mode": {
    "name": "python",
    "version": 3
   },
   "file_extension": ".py",
   "mimetype": "text/x-python",
   "name": "Python_Session",
   "pygments_lexer": "python3"
  }
 },
 "nbformat": 4,
 "nbformat_minor": 1
}
